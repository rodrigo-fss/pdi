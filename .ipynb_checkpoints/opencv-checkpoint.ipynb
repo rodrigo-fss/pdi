{
 "cells": [
  {
   "cell_type": "code",
   "execution_count": 1,
   "metadata": {
    "collapsed": false
   },
   "outputs": [
    {
     "ename": "ImportError",
     "evalue": "/usr/local/programas/anaconda2/lib/python2.7/site-packages/zmq/backend/cython/../../../../.././libstdc++.so.6: version `GLIBCXX_3.4.21' not found (required by /opt/ros/kinetic/lib/python2.7/dist-packages/cv2.so)",
     "output_type": "error",
     "traceback": [
      "\u001b[0;31m---------------------------------------------------------------------------\u001b[0m",
      "\u001b[0;31mImportError\u001b[0m                               Traceback (most recent call last)",
      "\u001b[0;32m<ipython-input-1-a52d4f71b2f2>\u001b[0m in \u001b[0;36m<module>\u001b[0;34m()\u001b[0m\n\u001b[0;32m----> 1\u001b[0;31m \u001b[0;32mimport\u001b[0m \u001b[0mcv2\u001b[0m\u001b[0;34m\u001b[0m\u001b[0m\n\u001b[0m\u001b[1;32m      2\u001b[0m \u001b[0;32mimport\u001b[0m \u001b[0mtime\u001b[0m\u001b[0;34m\u001b[0m\u001b[0m\n",
      "\u001b[0;31mImportError\u001b[0m: /usr/local/programas/anaconda2/lib/python2.7/site-packages/zmq/backend/cython/../../../../.././libstdc++.so.6: version `GLIBCXX_3.4.21' not found (required by /opt/ros/kinetic/lib/python2.7/dist-packages/cv2.so)"
     ]
    }
   ],
   "source": [
    "import cv2\n",
    "import time"
   ]
  },
  {
   "cell_type": "code",
   "execution_count": null,
   "metadata": {
    "collapsed": true
   },
   "outputs": [],
   "source": [
    "global NEGATIVO\n",
    "global THRESHOLD\n",
    "global ALTURA_MIN\n",
    "global LARGURA_MIN\n",
    "global N_PIXELS_MIN\n",
    "\n",
    "NEGATIVO = 0\n",
    "THRESHOLD = 200\n",
    "ALTURA_MIN = 1\n",
    "LARGURA_MIN = 1\n",
    "N_PIXELS_MIN = 20"
   ]
  },
  {
   "cell_type": "code",
   "execution_count": null,
   "metadata": {
    "collapsed": true
   },
   "outputs": [],
   "source": [
    "def binariza (entrada, saida, threshold):\n",
    "    for altura in range(entrada.shape[0]):\n",
    "        for largura in range(entrada.shape[1]):\n",
    "            if entrada[altura][largura] >= threshold:\n",
    "                saida[altura][largura] = 255\n",
    "            else:\n",
    "                saida[altura][largura] = 0\n",
    "    return saida"
   ]
  },
  {
   "cell_type": "code",
   "execution_count": null,
   "metadata": {
    "collapsed": true
   },
   "outputs": [],
   "source": [
    "def negativo(imagem):\n",
    "    for linha in range(len(imagem)):\n",
    "        for coluna in range(len(imagem[linha])):\n",
    "            imagem[linha][coluna] = 255 - int(imagem[linha][coluna])\n",
    "    return imagem"
   ]
  },
  {
   "cell_type": "code",
   "execution_count": null,
   "metadata": {
    "collapsed": true
   },
   "outputs": [],
   "source": [
    "class Rectangle:\n",
    "    def __init__(self, x_min, x_max, y_min, y_max):\n",
    "        self.x_min = x_min\n",
    "        self.x_max = x_max\n",
    "        self.y_min = y_min\n",
    "        self.y_max = y_max"
   ]
  },
  {
   "cell_type": "code",
   "execution_count": null,
   "metadata": {
    "collapsed": true
   },
   "outputs": [],
   "source": [
    "class Component:\n",
    "    def __init__(self, label, n_pixels, rect):\n",
    "        self.label = label\n",
    "        self.n_pixels = n_pixels\n",
    "        self.rect = rect"
   ]
  },
  {
   "cell_type": "code",
   "execution_count": 2,
   "metadata": {
    "collapsed": true
   },
   "outputs": [],
   "source": [
    "def rotula (entrada, componentes, largura_min, altura_min, n_pixels_min):\n",
    "    label = 0.1\n",
    "    #Inicia Lista de componentes\n",
    "    componentes = []\n",
    "    \n",
    "    for altura in range(entrada.shape[0]):\n",
    "        for largura in range(entrada.shape[1]):\n",
    "            #Se o pixel for branco\n",
    "            if entrada[altura][largura] == 255:\n",
    "                #Comece a inundação\n",
    "                componente = inunda(label, entrada, altura, largura, 1, Rectangle(largura,largura,altura,altura))                \n",
    "                #Se o objeto inundado tiver mais pixels do que o numero minimo definido\n",
    "                if componente != 0:\n",
    "                    #Adicione ao lista de componentes e incremente a label\n",
    "                    componentes.append(componente)\n",
    "                    label = label+0.1\n",
    "    #printando todos os componentes encontrados\n",
    "    for i in componentes:\n",
    "        entrada = desenharetangulo(i, 10, entrada)\n",
    "        print 'Componente: ' + str(i.label).replace('.', '') + ' | Numero de pixels: ' + str(i.n_pixels)\n",
    "        print 'y min: ' + str(i.rect.y_min) + ' | y max: ' + str(i.rect.y_max)\n",
    "        print 'x min: ' + str(i.rect.x_min) + ' | x max: ' + str(i.rect.x_max)\n",
    "    \n",
    "    cv2.imwrite( \"01 - retangularizada.bmp\", entrada);\n",
    "    return len(componentes)\n",
    "\n",
    "\n",
    "def inunda(label, entrada, x, y, ind, rect):\n",
    "    n_pixels_cont = 1\n",
    "    entrada[x][y] = label\n",
    "    \n",
    "    if x < rect.x_min:\n",
    "        rect.x_min = x\n",
    "    elif x > rect.x_max:\n",
    "        rect.x_max = x\n",
    "    \n",
    "    if y < rect.y_min:\n",
    "        rect.y_min = y\n",
    "    elif y > rect.y_max:\n",
    "        rect.y_max = x\n",
    "    \n",
    "    #Visite seu quatro vizinhos e verifique se fazem parte do objeto\n",
    "    if entrada[x-1][y] == 255:\n",
    "        #Se fizerem, prossiga com a inundação recursiva nessa direção\n",
    "        n_pixels_cont = inunda(label, entrada, x-1, y, 0, rect) + 1\n",
    "    if entrada[x][y-1] == 255:\n",
    "        n_pixels_cont  = inunda(label, entrada, x, y-1, 0, rect) + 1\n",
    "    if entrada[x+1][y] == 255:\n",
    "        n_pixels_cont = inunda(label, entrada, x+1, y, 0, rect) + 1\n",
    "    if entrada[x][y+1] == 255:\n",
    "        n_pixels_cont  = inunda(label, entrada, x, y+1, 0, rect) + 1\n",
    "    \n",
    "    #A variavel ind verifica se estamos na primeira chamada do objeto, assim, se a inundação foi finalizada\n",
    "    if ind == 1:\n",
    "        #Se for, verifique se o numero de pixels do objeto é maior que o minimo definido\n",
    "        if n_pixels_cont >= N_PIXELS_MIN:\n",
    "            #Se for, crie um componente e retorne\n",
    "            componente = Component(label, n_pixels_cont, rect)\n",
    "            return componente\n",
    "        else:\n",
    "            return 0\n",
    "    #Se não for a primeira chamada, retorne a contagem de pixels do objeto para ser incrementada com as outras chamadas\n",
    "    else:\n",
    "        return n_pixels_cont\n",
    "    "
   ]
  },
  {
   "cell_type": "code",
   "execution_count": null,
   "metadata": {
    "collapsed": true
   },
   "outputs": [],
   "source": [
    "def desenhaRetangulo(componente, spread, img):\n",
    "    y_max = componente.rect.y_max + spread\n",
    "    y_min = componente.rect.y_min - spread\n",
    "    x_max = componente.rect.x_max + spread\n",
    "    x_min = componente.rect.x_min - spread\n",
    "    for i in range(y_min, y_max):\n",
    "        img[i][x_max] = 255\n",
    "        img[i][x_min] = 255\n",
    "    \n",
    "    for i in range(x_min, x_max):\n",
    "        img[y_min][i] = 255\n",
    "        img[y_max][i] = 255\n",
    "    \n",
    "    return img"
   ]
  },
  {
   "cell_type": "code",
   "execution_count": null,
   "metadata": {
    "collapsed": false
   },
   "outputs": [],
   "source": [
    "##MAIN\n",
    "try: \n",
    "    image = cv2.imread(\"pacote2/arroz.bmp\",0)\n",
    "except:\n",
    "    print 'Erro ao abrir imagem'\n",
    "    exit()\n",
    "    \n",
    "imagemBinarizada = binariza(image, image, THRESHOLD)\n",
    "\n",
    "if(NEGATIVO > 0):\n",
    "    imagemBinarizada = negativo(imagemBinarizada)\n",
    "\n",
    "#cv2.imwrite( \"01 - binarizada.bmp\", imagemBinarizada);\n",
    "\n",
    "start = time.time()   \n",
    "n_componentes = rotula(imagemBinarizada, 0, ALTURA_MIN, LARGURA_MIN, N_PIXELS_MIN)\n",
    "end = time.time()\n",
    "print '\\nNumero total de componentes: ' + str(n_componentes)\n",
    "\n",
    "print'Contagem de componentes executada em: ' + str('%.2f' % (end - start)) + ' segundos'"
   ]
  },
  {
   "cell_type": "code",
   "execution_count": null,
   "metadata": {
    "collapsed": false
   },
   "outputs": [],
   "source": []
  }
 ],
 "metadata": {
  "kernelspec": {
   "display_name": "Python 2",
   "language": "python",
   "name": "python2"
  },
  "language_info": {
   "codemirror_mode": {
    "name": "ipython",
    "version": 2
   },
   "file_extension": ".py",
   "mimetype": "text/x-python",
   "name": "python",
   "nbconvert_exporter": "python",
   "pygments_lexer": "ipython2",
   "version": "2.7.13"
  }
 },
 "nbformat": 4,
 "nbformat_minor": 2
}
