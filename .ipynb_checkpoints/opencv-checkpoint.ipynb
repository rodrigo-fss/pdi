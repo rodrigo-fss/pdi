{
 "cells": [
  {
   "cell_type": "code",
   "execution_count": 12,
   "metadata": {},
   "outputs": [],
   "source": [
    "import cv2\n",
    "import time"
   ]
  },
  {
   "cell_type": "code",
   "execution_count": 2,
   "metadata": {},
   "outputs": [],
   "source": [
    "global NEGATIVO\n",
    "global THRESHOLD\n",
    "global ALTURA_MIN\n",
    "global LARGURA_MIN\n",
    "global N_PIXELS_MIN\n",
    "\n",
    "NEGATIVO = 0\n",
    "THRESHOLD = 200\n",
    "ALTURA_MIN = 1\n",
    "LARGURA_MIN = 1\n",
    "N_PIXELS_MIN = 20"
   ]
  },
  {
   "cell_type": "code",
   "execution_count": 3,
   "metadata": {},
   "outputs": [],
   "source": [
    "def binariza (entrada, saida, threshold):\n",
    "    for altura in range(entrada.shape[0]):\n",
    "        for largura in range(entrada.shape[1]):\n",
    "            if entrada[altura][largura] >= threshold:\n",
    "                saida[altura][largura] = 255\n",
    "            else:\n",
    "                saida[altura][largura] = 0\n",
    "    return saida"
   ]
  },
  {
   "cell_type": "code",
   "execution_count": 15,
   "metadata": {},
   "outputs": [],
   "source": [
    "def negativo(imagem):\n",
    "    for linha in range(len(imagem)):\n",
    "        for coluna in range(len(imagem[linha])):\n",
    "            imagem[linha][coluna] = 255 - int(imagem[linha][coluna])\n",
    "    return imagem"
   ]
  },
  {
   "cell_type": "code",
   "execution_count": null,
   "metadata": {},
   "outputs": [],
   "source": []
  },
  {
   "cell_type": "code",
   "execution_count": null,
   "metadata": {},
   "outputs": [],
   "source": []
  },
  {
   "cell_type": "code",
   "execution_count": 13,
   "metadata": {},
   "outputs": [],
   "source": [
    "class Component:\n",
    "    def __init__(self, label, n_pixels, x_min, x_max, y_min, y_max):\n",
    "        self.label = label\n",
    "        self.n_pixels = n_pixels\n",
    "        self.x_min = x_min\n",
    "        self.x_max = x_max\n",
    "        self.y_min = y_min\n",
    "        self.x_max = y_max"
   ]
  },
  {
   "cell_type": "code",
   "execution_count": 6,
   "metadata": {},
   "outputs": [],
   "source": [
    "def rotula (entrada, componentes, largura_min, altura_min, n_pixels_min):\n",
    "    label = 0.1\n",
    "    #Inicia Lista de componentes\n",
    "    componentes = []\n",
    "    \n",
    "    for altura in range(entrada.shape[0]):\n",
    "        for largura in range(entrada.shape[1]):\n",
    "            #Se o pixel for branco\n",
    "            if entrada[altura][largura] == 255:\n",
    "                #Comece a inundação\n",
    "                componente = inunda(label, entrada, altura, largura, 1, largura, largura, altura, altura)                \n",
    "                #Se o objeto inundado tiver mais pixels do que o numero minimo definido\n",
    "                if componente != 0:\n",
    "                    #Adicione ao lista de componentes e incremente a label\n",
    "                    componentes.append(componente)\n",
    "                    label = label+0.1\n",
    "    #printando todos os componentes encontrados\n",
    "    for i in componentes:\n",
    "        print 'Componente: ' + str(i.label).replace('.', '') + ' | Numero de pixels: ' + str(i.n_pixels)\n",
    "    return len(componentes)\n",
    "\n",
    "\n",
    "def inunda(label, entrada, x, y, ind, x_min, x_max, y_min, y_max):\n",
    "    n_pixels_cont = 1\n",
    "    entrada[x][y] = label\n",
    "    \n",
    "    #Visite seu quatro vizinhos e verifique se fazem parte do objeto\n",
    "    if entrada[x-1][y] == 255:\n",
    "        #Se fizerem, prossiga com a inundação recursiva nessa direção\n",
    "        n_pixels_cont = inunda(label, entrada, x-1, y, 0) + 1\n",
    "    if entrada[x][y-1] == 255:\n",
    "        n_pixels_cont  = inunda(label, entrada, x, y-1, 0) + 1\n",
    "    if entrada[x+1][y] == 255:\n",
    "        n_pixels_cont = inunda(label, entrada, x+1, y, 0) + 1\n",
    "    if entrada[x][y+1] == 255:\n",
    "        n_pixels_cont  = inunda(label, entrada, x, y+1, 0) + 1\n",
    "    \n",
    "    #A variavel ind verifica se estamos na primeira chamada do objeto, assim, se a inundação foi finalizada\n",
    "    if ind == 1:\n",
    "        #Se for, verifique se o numero de pixels do objeto é maior que o minimo definido\n",
    "        if n_pixels_cont >= N_PIXELS_MIN:\n",
    "            #Se for, crie um componente e retorne\n",
    "            componente = Component(label, n_pixels_cont)\n",
    "            return componente\n",
    "        else:\n",
    "            return 0\n",
    "    #Se não for a primeira chamada, retorne a contagem de pixels do objeto para ser incrementada com as outras chamadas\n",
    "    else:\n",
    "        return n_pixels_cont\n",
    "    "
   ]
  },
  {
   "cell_type": "code",
   "execution_count": 7,
   "metadata": {},
   "outputs": [
    {
     "name": "stdout",
     "output_type": "stream",
     "text": [
      "Componente: 01 | Numero de pixels: 720\n",
      "Componente: 02 | Numero de pixels: 589\n",
      "Componente: 03 | Numero de pixels: 595\n",
      "Componente: 04 | Numero de pixels: 268\n",
      "Componente: 05 | Numero de pixels: 644\n",
      "Componente: 06 | Numero de pixels: 689\n",
      "Componente: 07 | Numero de pixels: 603\n",
      "Componente: 08 | Numero de pixels: 811\n",
      "Componente: 09 | Numero de pixels: 703\n",
      "Componente: 10 | Numero de pixels: 530\n",
      "Componente: 11 | Numero de pixels: 765\n",
      "Componente: 12 | Numero de pixels: 642\n",
      "Componente: 13 | Numero de pixels: 404\n",
      "Componente: 14 | Numero de pixels: 696\n",
      "Componente: 15 | Numero de pixels: 697\n",
      "Componente: 16 | Numero de pixels: 706\n",
      "Componente: 17 | Numero de pixels: 555\n",
      "Componente: 18 | Numero de pixels: 721\n",
      "Componente: 19 | Numero de pixels: 382\n",
      "Componente: 20 | Numero de pixels: 454\n",
      "Componente: 21 | Numero de pixels: 805\n",
      "Componente: 22 | Numero de pixels: 656\n",
      "Componente: 23 | Numero de pixels: 606\n",
      "Componente: 24 | Numero de pixels: 754\n",
      "Componente: 25 | Numero de pixels: 784\n",
      "Componente: 26 | Numero de pixels: 709\n",
      "Componente: 27 | Numero de pixels: 426\n",
      "Componente: 28 | Numero de pixels: 760\n",
      "Componente: 29 | Numero de pixels: 658\n",
      "Componente: 30 | Numero de pixels: 733\n",
      "Componente: 31 | Numero de pixels: 531\n",
      "Componente: 32 | Numero de pixels: 717\n",
      "Componente: 33 | Numero de pixels: 528\n",
      "Componente: 34 | Numero de pixels: 832\n",
      "Componente: 35 | Numero de pixels: 756\n",
      "Componente: 36 | Numero de pixels: 732\n",
      "Componente: 37 | Numero de pixels: 784\n",
      "Componente: 38 | Numero de pixels: 407\n",
      "Componente: 39 | Numero de pixels: 579\n",
      "Componente: 40 | Numero de pixels: 842\n",
      "Componente: 41 | Numero de pixels: 696\n",
      "Componente: 42 | Numero de pixels: 810\n",
      "Componente: 43 | Numero de pixels: 743\n",
      "Componente: 44 | Numero de pixels: 574\n",
      "Componente: 45 | Numero de pixels: 567\n",
      "Componente: 46 | Numero de pixels: 782\n",
      "Componente: 47 | Numero de pixels: 801\n",
      "Componente: 48 | Numero de pixels: 836\n",
      "Componente: 49 | Numero de pixels: 802\n",
      "\n",
      "Numero total de componentes: 49\n",
      "Contagem de componentes executada em: 2.73 segundos\n"
     ]
    }
   ],
   "source": [
    "##MAIN\n",
    "try: \n",
    "    image = cv2.imread(\"pacote2/arroz.bmp\",0)\n",
    "except:\n",
    "    print 'Erro ao abrir imagem'\n",
    "    exit()\n",
    "    \n",
    "imagemBinarizada = binariza(image, image, THRESHOLD)\n",
    "\n",
    "if(NEGATIVO > 0):\n",
    "    imagemBinarizada = negativo(imagemBinarizada)\n",
    "\n",
    "#cv2.imwrite( \"01 - binarizada.bmp\", imagemBinarizada);\n",
    "\n",
    "start = time.time()   \n",
    "n_componentes = rotula(imagemBinarizada, 0, ALTURA_MIN, LARGURA_MIN, N_PIXELS_MIN)\n",
    "end = time.time()\n",
    "print '\\nNumero total de componentes: ' + str(n_componentes)\n",
    "\n",
    "print'Contagem de componentes executada em: ' + str('%.2f' % (end - start)) + ' segundos'"
   ]
  },
  {
   "cell_type": "code",
   "execution_count": null,
   "metadata": {},
   "outputs": [],
   "source": []
  }
 ],
 "metadata": {
  "kernelspec": {
   "display_name": "Python 2",
   "language": "python",
   "name": "python2"
  },
  "language_info": {
   "codemirror_mode": {
    "name": "ipython",
    "version": 2
   },
   "file_extension": ".py",
   "mimetype": "text/x-python",
   "name": "python",
   "nbconvert_exporter": "python",
   "pygments_lexer": "ipython2",
   "version": "2.7.15rc1"
  }
 },
 "nbformat": 4,
 "nbformat_minor": 2
}
