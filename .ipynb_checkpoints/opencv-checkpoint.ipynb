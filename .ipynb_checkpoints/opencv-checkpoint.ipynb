{
 "cells": [
  {
   "cell_type": "code",
   "execution_count": 1,
   "metadata": {},
   "outputs": [],
   "source": [
    "import cv2\n",
    "import time"
   ]
  },
  {
   "cell_type": "code",
   "execution_count": 2,
   "metadata": {},
   "outputs": [],
   "source": [
    "global NEGATIVO\n",
    "global THRESHOLD\n",
    "global ALTURA_MIN\n",
    "global LARGURA_MIN\n",
    "global N_PIXELS_MIN\n",
    "\n",
    "NEGATIVO = 0\n",
    "THRESHOLD = 200\n",
    "ALTURA_MIN = 1\n",
    "LARGURA_MIN = 1\n",
    "N_PIXELS_MIN = 20"
   ]
  },
  {
   "cell_type": "code",
   "execution_count": 3,
   "metadata": {},
   "outputs": [],
   "source": [
    "def binariza (entrada, saida, threshold):\n",
    "    for altura in range(entrada.shape[0]):\n",
    "        for largura in range(entrada.shape[1]):\n",
    "            if entrada[altura][largura] >= threshold:\n",
    "                saida[altura][largura] = 255\n",
    "            else:\n",
    "                saida[altura][largura] = 0\n",
    "    return saida"
   ]
  },
  {
   "cell_type": "code",
   "execution_count": 4,
   "metadata": {},
   "outputs": [],
   "source": [
    "def negativo(imagem):\n",
    "    for linha in range(len(imagem)):\n",
    "        for coluna in range(len(imagem[linha])):\n",
    "            imagem[linha][coluna] = 255 - int(imagem[linha][coluna])\n",
    "    return imagem"
   ]
  },
  {
   "cell_type": "code",
   "execution_count": 5,
   "metadata": {},
   "outputs": [],
   "source": [
    "class Component:\n",
    "    def __init__(self, label, n_pixels):\n",
    "        self.label = label\n",
    "        self.n_pixels = n_pixels"
   ]
  },
  {
   "cell_type": "code",
   "execution_count": 6,
   "metadata": {},
   "outputs": [],
   "source": [
    "def rotula (entrada, componentes, largura_min, altura_min, n_pixels_min):\n",
    "    label = 0.1\n",
    "    n_componentes = 0\n",
    "    \n",
    "    for altura in range(entrada.shape[0]):\n",
    "        for largura in range(entrada.shape[1]):\n",
    "            \n",
    "            if entrada[altura][largura] == 255:\n",
    "                componente = inunda(label, entrada, altura, largura, 1)                \n",
    "                n_componentes = n_componentes + componente\n",
    "                label = label+0.1\n",
    "    return n_componentes\n",
    "\n",
    "\n",
    "def inunda(label, entrada, x, y, ind):\n",
    "    n_pixels_cont = 1\n",
    "    entrada[x][y] = label\n",
    "    \n",
    "    if entrada[x-1][y] == 255:\n",
    "        n_pixels_cont = inunda(label, entrada, x-1, y, 0) + 1\n",
    "    if entrada[x][y-1] == 255:\n",
    "        n_pixels_cont  = inunda(label, entrada, x, y-1, 0) + 1\n",
    "    if entrada[x+1][y] == 255:\n",
    "        n_pixels_cont = inunda(label, entrada, x+1, y, 0) + 1\n",
    "    if entrada[x][y+1] == 255:\n",
    "        n_pixels_cont  = inunda(label, entrada, x, y+1, 0) + 1\n",
    "    \n",
    "    if ind == 1:\n",
    "        if n_pixels_cont >= N_PIXELS_MIN:\n",
    "            return 1\n",
    "        else:\n",
    "            return 0\n",
    "    else:\n",
    "        return n_pixels_cont\n",
    "    "
   ]
  },
  {
   "cell_type": "code",
   "execution_count": 7,
   "metadata": {},
   "outputs": [],
   "source": [
    "#image = cv2.imread(\"pacote2/arroz.bmp\",0)\n",
    "\n",
    "#cv2.imshow(\"image\",image)\n",
    "#k = cv2.waitKey(0)\n",
    "#cv2.destroyAllWindows()\n",
    "#if k != ord(\"s\"):\n",
    "#    cv2.destroyAllWindows()\n",
    "#elif k == ord(\"s\"):\n",
    "#    cv2.imwrite(\"watchgray.png\",image)\n",
    "#    cv2.destroyAllWindows()"
   ]
  },
  {
   "cell_type": "code",
   "execution_count": 10,
   "metadata": {},
   "outputs": [
    {
     "name": "stdout",
     "output_type": "stream",
     "text": [
      "49\n",
      "Executado em: 3.9849998951\n"
     ]
    }
   ],
   "source": [
    "##MAIN\n",
    "try: \n",
    "    image = cv2.imread(\"pacote2/arroz.bmp\",0)\n",
    "except:\n",
    "    print 'Erro ao abrir imagem'\n",
    "    exit()\n",
    "    \n",
    "imagemBinarizada = binariza(image, image, THRESHOLD)\n",
    "\n",
    "if(NEGATIVO > 0):\n",
    "    imagemBinarizada = negativo(imagemBinarizada, imagemBinarizada)\n",
    "\n",
    "#cv2.imwrite( \"01 - binarizada.bmp\", imagemBinarizada);\n",
    "\n",
    "start = time.time()   \n",
    "n_componentes = rotula(imagemBinarizada, 0, ALTURA_MIN, LARGURA_MIN, N_PIXELS_MIN)\n",
    "end = time.time()\n",
    "print n_componentes\n",
    "\n",
    "print'Executado em: ' + str((end - start))\n",
    "\n",
    "#cv2.imshow(\"image\",imagemBinarizada)\n",
    "#k = cv2.waitKey(1000)\n",
    "#cv2.destroyAllWindows()"
   ]
  },
  {
   "cell_type": "code",
   "execution_count": 9,
   "metadata": {},
   "outputs": [
    {
     "data": {
      "text/plain": [
       "(1080, 1504)"
      ]
     },
     "execution_count": 9,
     "metadata": {},
     "output_type": "execute_result"
    }
   ],
   "source": [
    "image = cv2.imread(\"pacote2/arroz.bmp\",0)\n",
    "image.shape"
   ]
  },
  {
   "cell_type": "code",
   "execution_count": null,
   "metadata": {},
   "outputs": [],
   "source": []
  }
 ],
 "metadata": {
  "kernelspec": {
   "display_name": "Python 2",
   "language": "python",
   "name": "python2"
  },
  "language_info": {
   "codemirror_mode": {
    "name": "ipython",
    "version": 2
   },
   "file_extension": ".py",
   "mimetype": "text/x-python",
   "name": "python",
   "nbconvert_exporter": "python",
   "pygments_lexer": "ipython2",
   "version": "2.7.14"
  }
 },
 "nbformat": 4,
 "nbformat_minor": 2
}
