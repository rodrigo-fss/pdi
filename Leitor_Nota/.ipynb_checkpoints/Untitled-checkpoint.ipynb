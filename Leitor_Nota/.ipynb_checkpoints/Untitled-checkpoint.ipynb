{
 "cells": [
  {
   "cell_type": "code",
   "execution_count": 1,
   "metadata": {},
   "outputs": [],
   "source": [
    "#Eduardo Darrazão\n",
    "#Rodrigo Faria"
   ]
  },
  {
   "cell_type": "code",
   "execution_count": 58,
   "metadata": {},
   "outputs": [],
   "source": [
    "import cv2\n",
    "import numpy as np\n",
    "import imutils"
   ]
  },
  {
   "cell_type": "code",
   "execution_count": 61,
   "metadata": {},
   "outputs": [],
   "source": [
    "#\n",
    "class Shape_Detector:\n",
    "        def __init__(self):\n",
    "            pass\n",
    "        \n",
    "        def detect(self, c):\n",
    "            shape = \"desconhecido\"\n",
    "            peri = cv2.arcLength(c, True)\n",
    "            approx = cv2.approxPolyDP(c, 0.05*peri, True)\n",
    "             \n",
    "            #Se tem quatro vértices\n",
    "            if len(approx) == 4:\n",
    "                shape = \"quadrilatero\"\n",
    "                print 'elogay'\n",
    "                \n",
    "            return shape    "
   ]
  },
  {
   "cell_type": "code",
   "execution_count": 70,
   "metadata": {},
   "outputs": [],
   "source": [
    "def detecta_palavras(img):\n",
    "    \n",
    "    #resized = imutils.resize(img, width=300)\n",
    "    #ratio = img.shape[0] / float(resized.shape[0])\n",
    "        \n",
    "    #THRESHOLD ADAPTATIVO\n",
    "    ret, imgthresh = cv2.threshold(img,170,255,cv2.THRESH_BINARY)\n",
    "    #imgthresh = cv2.adaptiveThreshold(img, 255, cv2.ADAPTIVE_THRESH_MEAN_C, cv2.THRESH_BINARY, 11, 2)    \n",
    "    \n",
    "    contorno = cv2.findContours(imgthresh.copy(), cv2.RETR_EXTERNAL, cv2.CHAIN_APPROX_SIMPLE)\n",
    "    \n",
    "    sd = Shape_Detector()\n",
    "    \n",
    "    \n",
    "    for c in contorno[0]:\n",
    "        M = cv2.moments(c)\n",
    "        shape = sd.detect(c)\n",
    "        \n",
    "        c = c.astype(\"float\")\n",
    "        c *= ratio\n",
    "        c = c.astype(\"int\")\n",
    "        cv2.drawContours(imgthresh, [c], -1, (0,255,0), 2)\n",
    "    \n",
    "    \n",
    "    return imgthresh"
   ]
  },
  {
   "cell_type": "code",
   "execution_count": 71,
   "metadata": {},
   "outputs": [
    {
     "name": "stdout",
     "output_type": "stream",
     "text": [
      "elogay\n",
      "elogay\n",
      "elogay\n",
      "elogay\n",
      "elogay\n",
      "elogay\n",
      "elogay\n",
      "elogay\n",
      "elogay\n",
      "elogay\n",
      "elogay\n",
      "elogay\n",
      "elogay\n",
      "elogay\n",
      "elogay\n",
      "elogay\n",
      "elogay\n",
      "elogay\n"
     ]
    },
    {
     "data": {
      "text/plain": [
       "True"
      ]
     },
     "execution_count": 71,
     "metadata": {},
     "output_type": "execute_result"
    }
   ],
   "source": [
    "img1 = cv2.imread(\"1.jpg\", cv2.IMREAD_GRAYSCALE )\n",
    "cv2.imwrite('im1_gray.jpg', img1)\n",
    "img1c = detecta_palavras(img1)\n",
    "cv2.imwrite('im1_bin.jpg', img1c)"
   ]
  },
  {
   "cell_type": "code",
   "execution_count": null,
   "metadata": {},
   "outputs": [],
   "source": []
  }
 ],
 "metadata": {
  "kernelspec": {
   "display_name": "Python 2",
   "language": "python",
   "name": "python2"
  },
  "language_info": {
   "codemirror_mode": {
    "name": "ipython",
    "version": 2
   },
   "file_extension": ".py",
   "mimetype": "text/x-python",
   "name": "python",
   "nbconvert_exporter": "python",
   "pygments_lexer": "ipython2",
   "version": "2.7.12"
  }
 },
 "nbformat": 4,
 "nbformat_minor": 2
}
