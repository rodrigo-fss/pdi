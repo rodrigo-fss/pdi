{
 "cells": [
  {
   "cell_type": "markdown",
   "metadata": {},
   "source": [
    "### CNN Usado para classificar documentos"
   ]
  },
  {
   "cell_type": "code",
   "execution_count": 1,
   "metadata": {},
   "outputs": [
    {
     "name": "stderr",
     "output_type": "stream",
     "text": [
      "/usr/local/lib/python2.7/dist-packages/requests/__init__.py:83: RequestsDependencyWarning: Old version of cryptography ([1, 2, 3]) may cause slowdown.\n",
      "  warnings.warn(warning, RequestsDependencyWarning)\n"
     ]
    }
   ],
   "source": [
    "import tensorflow as tf\n",
    "import cv2\n",
    "import matplotlib.pyplot as plt\n",
    "import numpy as np"
   ]
  },
  {
   "cell_type": "code",
   "execution_count": 2,
   "metadata": {},
   "outputs": [
    {
     "name": "stdout",
     "output_type": "stream",
     "text": [
      "Epoch 1/3\n",
      "60000/60000 [==============================] - 4s 70us/step - loss: 0.3228 - acc: 0.9092\n",
      "Epoch 2/3\n",
      "60000/60000 [==============================] - 4s 68us/step - loss: 0.1207 - acc: 0.9632\n",
      "Epoch 3/3\n",
      "60000/60000 [==============================] - 4s 67us/step - loss: 0.0800 - acc: 0.9751\n"
     ]
    },
    {
     "data": {
      "text/plain": [
       "<tensorflow.python.keras.callbacks.History at 0x7fe0e44c45d0>"
      ]
     },
     "execution_count": 2,
     "metadata": {},
     "output_type": "execute_result"
    }
   ],
   "source": [
    "mnist = tf.keras.datasets.mnist ## 28x 28 digitos de 0 a 9 escritos a mão\n",
    "(x_train, y_train), (x_test, y_test) = mnist.load_data()\n",
    "##normalize the mnist values\n",
    "x_train = tf.keras.utils.normalize(x_train, axis = 1)\n",
    "x_test = tf.keras.utils.normalize(x_test, axis = 1)\n",
    "\n",
    "model = tf.keras.models.Sequential()\n",
    "model.add(tf.keras.layers.Flatten(input_shape=x_train[0].shape))\n",
    "model.add(tf.keras.layers.Dense(128, activation = tf.nn.relu))\n",
    "model.add(tf.keras.layers.Dense(128, activation = tf.nn.relu))\n",
    "model.add(tf.keras.layers.Dense(128, activation = tf.nn.softmax))\n",
    "\n",
    "model.compile(optimizer = 'adam',\n",
    "             loss = 'sparse_categorical_crossentropy',\n",
    "             metrics = ['accuracy'])\n",
    "model.fit(x_train, y_train, epochs = 3)"
   ]
  },
  {
   "cell_type": "code",
   "execution_count": 3,
   "metadata": {},
   "outputs": [
    {
     "name": "stdout",
     "output_type": "stream",
     "text": [
      "10000/10000 [==============================] - 0s 31us/step\n",
      "(0.08965406877594069, 0.973)\n"
     ]
    }
   ],
   "source": [
    "val_loss, val_acc = model.evaluate(x_test, y_test)\n",
    "print(val_loss, val_acc)"
   ]
  },
  {
   "cell_type": "code",
   "execution_count": 4,
   "metadata": {},
   "outputs": [],
   "source": [
    "model.save('epic_num_reader.model')"
   ]
  },
  {
   "cell_type": "code",
   "execution_count": 5,
   "metadata": {},
   "outputs": [
    {
     "name": "stdout",
     "output_type": "stream",
     "text": [
      "7\n"
     ]
    }
   ],
   "source": [
    "new_model = tf.keras.models.load_model('epic_num_reader.model')\n",
    "predictions = new_model.predict([x_test])\n",
    "print(np.argmax(predictions[0]))"
   ]
  },
  {
   "cell_type": "code",
   "execution_count": 6,
   "metadata": {},
   "outputs": [
    {
     "data": {
      "text/plain": [
       "<matplotlib.image.AxesImage at 0x7fe070572390>"
      ]
     },
     "execution_count": 6,
     "metadata": {},
     "output_type": "execute_result"
    },
    {
     "data": {
      "image/png": "[encoded data removed]",
      "text/plain": [
       "<Figure size 432x288 with 1 Axes>"
      ]
     },
     "metadata": {
      "needs_background": "light"
     },
     "output_type": "display_data"
    }
   ],
   "source": [
    "plt.imshow(x_test[0], cmap='gray')\n",
    "#print(x_test[0])"
   ]
  },
  {
   "cell_type": "markdown",
   "metadata": {},
   "source": [
    "### Inserindo imagens do código postal"
   ]
  },
  {
   "cell_type": "code",
   "execution_count": 7,
   "metadata": {},
   "outputs": [],
   "source": [
    "def trataImg(img):\n",
    "    img = img[8:-9, 1:-1]\n",
    "    img = cv2.copyMakeBorder(img, 2, 2, 2, 2, borderType = cv2.BORDER_CONSTANT, value=255 )\n",
    "    img = cv2.resize(img, (28, 28))\n",
    "    ret,img_t = cv2.threshold(img,185,255,cv2.THRESH_BINARY_INV)\n",
    "    img_t = cv2.GaussianBlur(img_t,(5,5),0)\n",
    "    #img_t[np.where(img_t > [185])] = [0]\n",
    "    return img_t"
   ]
  },
  {
   "cell_type": "code",
   "execution_count": 8,
   "metadata": {},
   "outputs": [
    {
     "data": {
      "text/plain": [
       "True"
      ]
     },
     "execution_count": 8,
     "metadata": {},
     "output_type": "execute_result"
    }
   ],
   "source": [
    "img1_0 = cv2.imread('test_ml/1.jpg', cv2.IMREAD_GRAYSCALE)\n",
    "img2_6 = cv2.imread('test_ml/2.jpg', cv2.IMREAD_GRAYSCALE)\n",
    "img3_3 = cv2.imread('test_ml/3.jpg', cv2.IMREAD_GRAYSCALE)\n",
    "img4_6 = cv2.imread('test_ml/4.jpg', cv2.IMREAD_GRAYSCALE)\n",
    "img5_4 = cv2.imread('test_ml/5.jpg', cv2.IMREAD_GRAYSCALE)\n",
    "img6_2 = cv2.imread('test_ml/6.jpg', cv2.IMREAD_GRAYSCALE)\n",
    "img7_1 = cv2.imread('test_ml/7.jpg', cv2.IMREAD_GRAYSCALE)\n",
    "img8_0 = cv2.imread('test_ml/8.jpg', cv2.IMREAD_GRAYSCALE)\n",
    "\n",
    "img1_0 = trataImg(img1_0)\n",
    "img2_6 = trataImg(img2_6)\n",
    "img3_3 = trataImg(img3_3)\n",
    "img4_6 = trataImg(img4_6)\n",
    "img5_4 = trataImg(img5_4)\n",
    "img6_2 = trataImg(img6_2)\n",
    "img7_1 = trataImg(img7_1)\n",
    "img8_0 = trataImg(img8_0)\n",
    "\n",
    "cv2.imwrite('test_ml/img1_te.jpg', img1_0)\n",
    "cv2.imwrite('test_ml/img2_te.jpg', img2_6)\n",
    "cv2.imwrite('test_ml/img3_te.jpg', img3_3)\n",
    "cv2.imwrite('test_ml/img4_te.jpg', img4_6)\n",
    "cv2.imwrite('test_ml/img5_te.jpg', img5_4)\n",
    "cv2.imwrite('test_ml/img6_te.jpg', img6_2)\n",
    "cv2.imwrite('test_ml/img7_te.jpg', img7_1)\n",
    "cv2.imwrite('test_ml/img8_te.jpg', img8_0)"
   ]
  },
  {
   "cell_type": "code",
   "execution_count": 9,
   "metadata": {},
   "outputs": [],
   "source": [
    "img1_0 = cv2.normalize(img1_0, None, alpha=0, beta=1, norm_type=cv2.NORM_MINMAX, dtype=cv2.CV_32F)\n",
    "img2_6 = cv2.normalize(img2_6, None, alpha=0, beta=1, norm_type=cv2.NORM_MINMAX, dtype=cv2.CV_32F)\n",
    "img3_3 = cv2.normalize(img3_3, None, alpha=0, beta=1, norm_type=cv2.NORM_MINMAX, dtype=cv2.CV_32F)\n",
    "img4_6 = cv2.normalize(img4_6, None, alpha=0, beta=1, norm_type=cv2.NORM_MINMAX, dtype=cv2.CV_32F)\n",
    "img5_4 = cv2.normalize(img5_4, None, alpha=0, beta=1, norm_type=cv2.NORM_MINMAX, dtype=cv2.CV_32F)\n",
    "img6_2 = cv2.normalize(img6_2, None, alpha=0, beta=1, norm_type=cv2.NORM_MINMAX, dtype=cv2.CV_32F)\n",
    "img7_1 = cv2.normalize(img7_1, None, alpha=0, beta=1, norm_type=cv2.NORM_MINMAX, dtype=cv2.CV_32F)\n",
    "img8_0 = cv2.normalize(img8_0, None, alpha=0, beta=1, norm_type=cv2.NORM_MINMAX, dtype=cv2.CV_32F)\n",
    "\n",
    "\n",
    "x_test_p = [img1_0, img2_6, img3_3, img4_6, img5_4, img6_2, img7_1, img8_0]\n",
    "x_test_p = tf.keras.utils.normalize(x_test_p, axis = 1)\n",
    "y_test_p = [0, 6, 3, 6, 4, 2, 1, 0]"
   ]
  },
  {
   "cell_type": "code",
   "execution_count": 10,
   "metadata": {
    "scrolled": true
   },
   "outputs": [
    {
     "name": "stdout",
     "output_type": "stream",
     "text": [
      "(0, 0)\n",
      "(2, 6)\n",
      "(3, 3)\n",
      "(6, 6)\n",
      "(4, 4)\n",
      "(2, 2)\n",
      "(4, 1)\n",
      "(0, 0)\n"
     ]
    }
   ],
   "source": [
    "predictions = new_model.predict([x_test_p])\n",
    "for i in range(len(predictions)):\n",
    "    print(np.argmax(predictions[i]), y_test_p[i])"
   ]
  },
  {
   "cell_type": "code",
   "execution_count": 11,
   "metadata": {},
   "outputs": [
    {
     "data": {
      "text/plain": [
       "<matplotlib.image.AxesImage at 0x7fe0704a64d0>"
      ]
     },
     "execution_count": 11,
     "metadata": {},
     "output_type": "execute_result"
    },
    {
     "data": {
      "image/png": "[encoded data removed]",
      "text/plain": [
       "<Figure size 432x288 with 1 Axes>"
      ]
     },
     "metadata": {
      "needs_background": "light"
     },
     "output_type": "display_data"
    }
   ],
   "source": [
    "plt.imshow(x_test[19],cmap='gray')"
   ]
  },
  {
   "cell_type": "code",
   "execution_count": 12,
   "metadata": {},
   "outputs": [
    {
     "data": {
      "text/plain": [
       "<matplotlib.image.AxesImage at 0x7fe07049b790>"
      ]
     },
     "execution_count": 12,
     "metadata": {},
     "output_type": "execute_result"
    },
    {
     "data": {
      "image/png": "[encoded data removed]",
      "text/plain": [
       "<Figure size 432x288 with 1 Axes>"
      ]
     },
     "metadata": {
      "needs_background": "light"
     },
     "output_type": "display_data"
    }
   ],
   "source": [
    "plt.imshow(x_test[9],cmap='gray')"
   ]
  },
  {
   "cell_type": "code",
   "execution_count": 13,
   "metadata": {},
   "outputs": [
    {
     "data": {
      "text/plain": [
       "<matplotlib.image.AxesImage at 0x7fe07040e4d0>"
      ]
     },
     "execution_count": 13,
     "metadata": {},
     "output_type": "execute_result"
    },
    {
     "data": {
      "image/png": "[encoded data removed]",
      "text/plain": [
       "<Figure size 432x288 with 1 Axes>"
      ]
     },
     "metadata": {
      "needs_background": "light"
     },
     "output_type": "display_data"
    }
   ],
   "source": [
    "plt.imshow(x_test_p[4],cmap='gray')"
   ]
  },
  {
   "cell_type": "code",
   "execution_count": null,
   "metadata": {},
   "outputs": [],
   "source": []
  }
 ],
 "metadata": {
  "kernelspec": {
   "display_name": "Python 3",
   "language": "python",
   "name": "python3"
  },
  "language_info": {
   "codemirror_mode": {
    "name": "ipython",
    "version": 2
   },
   "file_extension": ".py",
   "mimetype": "text/x-python",
   "name": "python",
   "nbconvert_exporter": "python",
   "pygments_lexer": "ipython2",
   "version": "2.7.12"
  }
 },
 "nbformat": 4,
 "nbformat_minor": 2
}
