{
 "cells": [
  {
   "cell_type": "markdown",
   "metadata": {},
   "source": [
    "### CNN Usado para classificar documentos"
   ]
  },
  {
   "cell_type": "code",
   "execution_count": 1,
   "metadata": {},
   "outputs": [],
   "source": [
    "import tensorflow as tf\n",
    "import matplotlib.pyplot as plt"
   ]
  },
  {
   "cell_type": "code",
   "execution_count": 2,
   "metadata": {},
   "outputs": [
    {
     "name": "stdout",
     "output_type": "stream",
     "text": [
      "Epoch 1/3\n",
      "60000/60000 [==============================] - 4s 70us/step - loss: 0.3225 - acc: 0.9079\n",
      "Epoch 2/3\n",
      "60000/60000 [==============================] - 4s 68us/step - loss: 0.1235 - acc: 0.9618\n",
      "Epoch 3/3\n",
      "60000/60000 [==============================] - 4s 73us/step - loss: 0.0825 - acc: 0.9743\n"
     ]
    },
    {
     "data": {
      "text/plain": [
       "<tensorflow.python.keras.callbacks.History at 0x7f08517fadd0>"
      ]
     },
     "execution_count": 2,
     "metadata": {},
     "output_type": "execute_result"
    }
   ],
   "source": [
    "mnist = tf.keras.datasets.mnist ## 28x 28 digitos de 0 a 9 escritos a mão\n",
    "(x_train, y_train), (x_test, y_test) = mnist.load_data()\n",
    "##normalize the mnist values\n",
    "x_train = tf.keras.utils.normalize(x_train, axis = 1)\n",
    "x_test = tf.keras.utils.normalize(x_test, axis = 1)\n",
    "\n",
    "model = tf.keras.models.Sequential()\n",
    "model.add(tf.keras.layers.Flatten(input_shape=x_train[0].shape))\n",
    "model.add(tf.keras.layers.Dense(128, activation = tf.nn.relu))\n",
    "model.add(tf.keras.layers.Dense(128, activation = tf.nn.relu))\n",
    "model.add(tf.keras.layers.Dense(128, activation = tf.nn.softmax))\n",
    "\n",
    "model.compile(optimizer = 'adam',\n",
    "             loss = 'sparse_categorical_crossentropy',\n",
    "             metrics = ['accuracy'])\n",
    "model.fit(x_train, y_train, epochs = 3)"
   ]
  },
  {
   "cell_type": "code",
   "execution_count": 3,
   "metadata": {},
   "outputs": [
    {
     "name": "stdout",
     "output_type": "stream",
     "text": [
      "10000/10000 [==============================] - 0s 37us/step\n",
      "(0.09066766170561313, 0.9726)\n"
     ]
    }
   ],
   "source": [
    "val_loss, val_acc = model.evaluate(x_test, y_test)\n",
    "print(val_loss, val_acc)"
   ]
  },
  {
   "cell_type": "code",
   "execution_count": 4,
   "metadata": {},
   "outputs": [],
   "source": [
    "model.save('epic_num_reader.model')"
   ]
  },
  {
   "cell_type": "code",
   "execution_count": 5,
   "metadata": {},
   "outputs": [
    {
     "name": "stdout",
     "output_type": "stream",
     "text": [
      "7\n"
     ]
    }
   ],
   "source": [
    "import numpy as np\n",
    "new_model = tf.keras.models.load_model('epic_num_reader.model')\n",
    "predictions = new_model.predict([x_test])\n",
    "print(np.argmax(predictions[0]))"
   ]
  },
  {
   "cell_type": "code",
   "execution_count": 6,
   "metadata": {},
   "outputs": [
    {
     "data": {
      "text/plain": [
       "<matplotlib.image.AxesImage at 0x7f083fe51e90>"
      ]
     },
     "execution_count": 6,
     "metadata": {},
     "output_type": "execute_result"
    },
    {
     "data": {
      "image/png": "[encoded data removed]",
      "text/plain": [
       "<Figure size 432x288 with 1 Axes>"
      ]
     },
     "metadata": {
      "needs_background": "light"
     },
     "output_type": "display_data"
    }
   ],
   "source": [
    "plt.imshow(x_test[0])\n",
    "#print(x_test[0])"
   ]
  },
  {
   "cell_type": "code",
   "execution_count": 34,
   "metadata": {},
   "outputs": [],
   "source": [
    "import cv2\n",
    "img1_0 = cv2.resize(cv2.imread('test_ml/1.jpg', cv2.IMREAD_GRAYSCALE), (28, 28))\n",
    "img2_6 = cv2.resize(cv2.imread('test_ml/2.jpg', cv2.IMREAD_GRAYSCALE), (28, 28))\n",
    "img3_3 = cv2.resize(cv2.imread('test_ml/3.jpg', cv2.IMREAD_GRAYSCALE), (28, 28))\n",
    "img4_6 = cv2.resize(cv2.imread('test_ml/4.jpg', cv2.IMREAD_GRAYSCALE), (28, 28))\n",
    "img5_4 = cv2.resize(cv2.imread('test_ml/5.jpg', cv2.IMREAD_GRAYSCALE), (28, 28))\n",
    "img6_2 = cv2.resize(cv2.imread('test_ml/6.jpg', cv2.IMREAD_GRAYSCALE), (28, 28))\n",
    "img7_1 = cv2.resize(cv2.imread('test_ml/7.jpg', cv2.IMREAD_GRAYSCALE), (28, 28))\n",
    "img8_0 = cv2.resize(cv2.imread('test_ml/8.jpg', cv2.IMREAD_GRAYSCALE), (28, 28))"
   ]
  },
  {
   "cell_type": "code",
   "execution_count": 35,
   "metadata": {},
   "outputs": [],
   "source": [
    "def trataImg(img):\n",
    "    ret,img_t = cv2.threshold(img,185,255,cv2.THRESH_TOZERO_INV)\n",
    "    img_t[np.where(img_t == [0])] = [255]\n",
    "    img_t = cv2.normalize(img_t, None, alpha=0, beta=1, norm_type=cv2.NORM_MINMAX, dtype=cv2.CV_32F)\n",
    "    return img_t"
   ]
  },
  {
   "cell_type": "code",
   "execution_count": null,
   "metadata": {},
   "outputs": [],
   "source": [
    "img1_0 = cv2.resize(cv2.imread('test_ml/1.jpg', cv2.IMREAD_GRAYSCALE), (28, 28))\n",
    "img2_6 = cv2.resize(cv2.imread('test_ml/2.jpg', cv2.IMREAD_GRAYSCALE), (28, 28))\n",
    "img3_3 = cv2.resize(cv2.imread('test_ml/3.jpg', cv2.IMREAD_GRAYSCALE), (28, 28))\n",
    "img4_6 = cv2.resize(cv2.imread('test_ml/4.jpg', cv2.IMREAD_GRAYSCALE), (28, 28))\n",
    "img5_4 = cv2.resize(cv2.imread('test_ml/5.jpg', cv2.IMREAD_GRAYSCALE), (28, 28))\n",
    "img6_2 = cv2.resize(cv2.imread('test_ml/6.jpg', cv2.IMREAD_GRAYSCALE), (28, 28))\n",
    "img7_1 = cv2.resize(cv2.imread('test_ml/7.jpg', cv2.IMREAD_GRAYSCALE), (28, 28))\n",
    "img8_0 = cv2.resize(cv2.imread('test_ml/8.jpg', cv2.IMREAD_GRAYSCALE), (28, 28))"
   ]
  },
  {
   "cell_type": "code",
   "execution_count": 36,
   "metadata": {},
   "outputs": [
    {
     "data": {
      "text/plain": [
       "True"
      ]
     },
     "execution_count": 36,
     "metadata": {},
     "output_type": "execute_result"
    }
   ],
   "source": [
    "img1_0_t = trataImg(img1_0)\n",
    "img2_6_t = trataImg(img2_6)\n",
    "img3_3_t = trataImg(img3_3)\n",
    "img4_6_t = trataImg(img4_6)\n",
    "img5_4_t = trataImg(img5_4)\n",
    "img6_2_t = trataImg(img6_2)\n",
    "img7_1_t = trataImg(img7_1)\n",
    "img8_0_t = trataImg(img8_0)\n",
    "\n",
    "# cv2.imwrite('test_ml/img1_t.jpg', img1_0_t)\n",
    "# cv2.imwrite('test_ml/img2_t.jpg', img2_6_t)\n",
    "# cv2.imwrite('test_ml/img3_t.jpg', img3_3_t)\n",
    "# cv2.imwrite('test_ml/img4_t.jpg', img4_6_t)\n",
    "# cv2.imwrite('test_ml/img5_t.jpg', img5_4_t)\n",
    "# cv2.imwrite('test_ml/img6_t.jpg', img6_2_t)\n",
    "# cv2.imwrite('test_ml/img7_t.jpg', img7_1_t)\n",
    "# cv2.imwrite('test_ml/img8_t.jpg', img8_0_t)"
   ]
  },
  {
   "cell_type": "code",
   "execution_count": 37,
   "metadata": {},
   "outputs": [],
   "source": [
    "img1_t = cv2.imread('test_ml/img1_t.jpg', cv2.IMREAD_GRAYSCALE)\n",
    "img2_t = cv2.imread('test_ml/img2_t.jpg', cv2.IMREAD_GRAYSCALE)\n",
    "img3_t = cv2.imread('test_ml/img3_t.jpg', cv2.IMREAD_GRAYSCALE)\n",
    "img4_t = cv2.imread('test_ml/img4_t.jpg', cv2.IMREAD_GRAYSCALE)\n",
    "img5_t = cv2.imread('test_ml/img5_t.jpg', cv2.IMREAD_GRAYSCALE)\n",
    "img6_t = cv2.imread('test_ml/img6_t.jpg', cv2.IMREAD_GRAYSCALE)\n",
    "img7_t = cv2.imread('test_ml/img7_t.jpg', cv2.IMREAD_GRAYSCALE)\n",
    "img8_t = cv2.imread('test_ml/img8_t.jpg', cv2.IMREAD_GRAYSCALE)\n",
    "\n",
    "img1_t = cv2.normalize(img1_t, None, alpha=0, beta=1, norm_type=cv2.NORM_MINMAX, dtype=cv2.CV_32F)\n",
    "img2_t = cv2.normalize(img2_t, None, alpha=0, beta=1, norm_type=cv2.NORM_MINMAX, dtype=cv2.CV_32F)\n",
    "img3_t = cv2.normalize(img3_t, None, alpha=0, beta=1, norm_type=cv2.NORM_MINMAX, dtype=cv2.CV_32F)\n",
    "img4_t = cv2.normalize(img4_t, None, alpha=0, beta=1, norm_type=cv2.NORM_MINMAX, dtype=cv2.CV_32F)\n",
    "img5_t = cv2.normalize(img5_t, None, alpha=0, beta=1, norm_type=cv2.NORM_MINMAX, dtype=cv2.CV_32F)\n",
    "img6_t = cv2.normalize(img6_t, None, alpha=0, beta=1, norm_type=cv2.NORM_MINMAX, dtype=cv2.CV_32F)\n",
    "img7_t = cv2.normalize(img7_t, None, alpha=0, beta=1, norm_type=cv2.NORM_MINMAX, dtype=cv2.CV_32F)\n",
    "img8_t = cv2.normalize(img8_t, None, alpha=0, beta=1, norm_type=cv2.NORM_MINMAX, dtype=cv2.CV_32F)\n",
    "\n",
    "x_test_p = [img1_t, img2_t, img3_t, img4_t, img5_t, img6_t, img7_t, img8_t]\n",
    "y_test = [0, 6, 3, 6, 4, 2, 1, 0]"
   ]
  },
  {
   "cell_type": "code",
   "execution_count": 38,
   "metadata": {},
   "outputs": [
    {
     "name": "stdout",
     "output_type": "stream",
     "text": [
      "(0, 0)\n",
      "(5, 6)\n",
      "(8, 3)\n",
      "(4, 6)\n",
      "(4, 4)\n",
      "(6, 2)\n",
      "(4, 1)\n",
      "(0, 0)\n"
     ]
    }
   ],
   "source": [
    "predictions = new_model.predict([x_test_p])\n",
    "for i in range(len(predictions)):\n",
    "    print(np.argmax(predictions[i]), y_test[i])"
   ]
  },
  {
   "cell_type": "code",
   "execution_count": 39,
   "metadata": {},
   "outputs": [
    {
     "data": {
      "text/plain": [
       "<matplotlib.image.AxesImage at 0x7f07ed338050>"
      ]
     },
     "execution_count": 39,
     "metadata": {},
     "output_type": "execute_result"
    },
    {
     "data": {
      "image/png": "[encoded data removed]",
      "text/plain": [
       "<Figure size 432x288 with 1 Axes>"
      ]
     },
     "metadata": {
      "needs_background": "light"
     },
     "output_type": "display_data"
    }
   ],
   "source": [
    "plt.imshow(x_test[3],cmap='gray')"
   ]
  },
  {
   "cell_type": "code",
   "execution_count": null,
   "metadata": {},
   "outputs": [],
   "source": []
  }
 ],
 "metadata": {
  "kernelspec": {
   "display_name": "Python 3",
   "language": "python",
   "name": "python3"
  },
  "language_info": {
   "codemirror_mode": {
    "name": "ipython",
    "version": 2
   },
   "file_extension": ".py",
   "mimetype": "text/x-python",
   "name": "python",
   "nbconvert_exporter": "python",
   "pygments_lexer": "ipython2",
   "version": "2.7.12"
  }
 },
 "nbformat": 4,
 "nbformat_minor": 2
}
