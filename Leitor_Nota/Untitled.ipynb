{
 "cells": [
  {
   "cell_type": "code",
   "execution_count": 1,
   "metadata": {},
   "outputs": [],
   "source": [
    "#Eduardo Darrazão\n",
    "#Rodrigo Faria"
   ]
  },
  {
   "cell_type": "code",
   "execution_count": 58,
   "metadata": {},
   "outputs": [],
   "source": [
    "import cv2\n",
    "import numpy as np\n",
    "import imutils"
   ]
  },
  {
   "cell_type": "code",
   "execution_count": 233,
   "metadata": {},
   "outputs": [],
   "source": [
    "#\n",
    "class Shape_Detector:\n",
    "        def __init__(self):\n",
    "            pass\n",
    "        \n",
    "        def detect(self, c):\n",
    "            shape = \"desconhecido\"\n",
    "            #Perimetro\n",
    "            peri = cv2.arcLength(c, True)\n",
    "            #Ramer–Douglas–Peucker algorithm, simplifica traços\n",
    "            approx = cv2.approxPolyDP(c, 0.116*peri, True)\n",
    "             \n",
    "            #Se tem aproximadamente quatro vértices\n",
    "            if len(approx) == 4:\n",
    "                shape = \"quadrilatero\"\n",
    "                \n",
    "            return shape    "
   ]
  },
  {
   "cell_type": "code",
   "execution_count": 303,
   "metadata": {},
   "outputs": [],
   "source": [
    "def detecta_palavras(img):\n",
    "    \n",
    "    #resized = imutils.resize(img, width=300)\n",
    "    #ratio = img.shape[0] / float(resized.shape[0])\n",
    "    \n",
    "    ret, imgthresh = cv2.threshold(img,170,255,cv2.THRESH_BINARY_INV)\n",
    "    cv2.imwrite('im2_bin.jpg', imgthresh)\n",
    "        \n",
    "    #RETR_EXTERNAL: seleciona contornos externos\n",
    "    #CHAIN_APPROX_TC89_KCOS: Teh-Chin chain, método de aproximação de contorno\n",
    "    #Determina a região de suporte pra cada ponto,\n",
    "    #computa curvatura para cada,\n",
    "    #determina ponto dominante por processo de supressão dos não máximos\n",
    "    contorno = cv2.findContours(imgthresh.copy(), cv2.RETR_EXTERNAL, cv2.CHAIN_APPROX_TC89_KCOS)\n",
    "    sd = Shape_Detector()    \n",
    "    \n",
    "    h, w = img.shape[:2]\n",
    "    img_black = np.zeros((h,w), np.uint8)\n",
    "    \n",
    "    for c in contorno[0]:\n",
    "        M = cv2.moments(c)\n",
    "        shape = sd.detect(c)\n",
    "        if shape == \"quadrilatero\" :\n",
    "            cv2.drawContours(img, [c], -1, (0,255,0), 2)\n",
    "            cv2.drawContours(img_black, [c], -1, (255,255,255), 2)\n",
    "            \n",
    "    cv2.imwrite('im4_contornos.jpg', img_black)\n",
    "    img_linhas = img_black.copy()\n",
    "    \n",
    "    \n",
    "    \n",
    "    #Procura blocos\n",
    "    for altura in range(h):\n",
    "        for largura in range(w):\n",
    "            #Se o pixel for branco\n",
    "            if img_black[altura][largura] == 255:\n",
    "                contador_fundo = 0\n",
    "                contador_borda = 0\n",
    "                new_borda = 0\n",
    "                new_fundo = 0\n",
    "                tam_fundo = -1\n",
    "                tam_espaco = -2\n",
    "                signal = 0  #1: borda | -1: fundo\n",
    "                \n",
    "                for linha in range (largura, w):\n",
    "                    #se borda\n",
    "                    if img_black[altura][linha] == 255:\n",
    "                        contador_borda += 1\n",
    "                        #se ultimo foi fundo\n",
    "                        if signal == -1:\n",
    "                            new_borda += 1\n",
    "                            \n",
    "                            #se tamanho do fundo n foi definido\n",
    "                            if tam_fundo == -1:\n",
    "                                tam_fundo = contador_fundo\n",
    "                        signal = 1\n",
    "                        \n",
    "                        \n",
    "                    else: #se fundo\n",
    "                        contador_fundo += 1\n",
    "                        #se ultimo foi borda\n",
    "                        if signal == 1:\n",
    "                            new_fundo += 1\n",
    "                            \n",
    "                            #se primeira iteração de fundo\n",
    "                            if tam_espaco == -2:\n",
    "                                tam_espaco += 1;\n",
    "                            #se tamanho do espaço n foi definido\n",
    "                            elif tam_espaco == -1:\n",
    "                                tam_espaco = \n",
    "                        signal = -1\n",
    "                    \n",
    "                        \n",
    "                if new_fundo == 16:\n",
    "                    print \"fundo: \" + str(contador_fundo) + \", borda: \" + str(contador_borda) + \"\\n\"\n",
    "                    print \"new_fundo: \" + str(new_fundo) + \", new_borda: \" + str(new_borda) + \"\\n\"\n",
    "                    for abc in range(largura, w):\n",
    "                        img_linhas[altura][abc] = 255\n",
    "                        \n",
    "    cv2.imwrite('im5_linhas.jpg', img_linhas)\n",
    "    \n",
    "    #kernel = np.ones((3,3),np.uint8)\n",
    "    #Dilatação\n",
    "    #img_dil = cv2.dilate(img_black ,kernel,iterations = 1)    \n",
    "    #img_dil = cv2.bitwise_not(img_dil)\n",
    "    #img_black = img_black + img_dil\n",
    "    #cv2.imwrite('im5_dilat.jpg', img_black)\n",
    "    \n",
    "    \n",
    "\n",
    "    return img"
   ]
  },
  {
   "cell_type": "code",
   "execution_count": 309,
   "metadata": {},
   "outputs": [
    {
     "data": {
      "text/plain": [
       "True"
      ]
     },
     "execution_count": 309,
     "metadata": {},
     "output_type": "execute_result"
    }
   ],
   "source": [
    "img1 = cv2.imread(\"1.jpg\", cv2.IMREAD_GRAYSCALE )\n",
    "cv2.imwrite('im1_gray.jpg', img1)\n",
    "\n",
    "img1 = cv2.GaussianBlur(img1,(3,3),1)\n",
    "\n",
    "img1c = detecta_palavras(img1)\n",
    "cv2.imwrite('im3_detect.jpg', img1c)"
   ]
  },
  {
   "cell_type": "code",
   "execution_count": null,
   "metadata": {},
   "outputs": [],
   "source": []
  }
 ],
 "metadata": {
  "kernelspec": {
   "display_name": "Python 2",
   "language": "python",
   "name": "python2"
  },
  "language_info": {
   "codemirror_mode": {
    "name": "ipython",
    "version": 2
   },
   "file_extension": ".py",
   "mimetype": "text/x-python",
   "name": "python",
   "nbconvert_exporter": "python",
   "pygments_lexer": "ipython2",
   "version": "2.7.12"
  }
 },
 "nbformat": 4,
 "nbformat_minor": 2
}
