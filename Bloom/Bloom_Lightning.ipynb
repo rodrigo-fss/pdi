{
 "cells": [
  {
   "cell_type": "code",
   "execution_count": null,
   "metadata": {},
   "outputs": [],
   "source": [
    "#Eduardo Darrazão\n",
    "#Rodrigo Faria"
   ]
  },
  {
   "cell_type": "code",
   "execution_count": null,
   "metadata": {},
   "outputs": [],
   "source": [
    "import cv2\n",
    "import time"
   ]
  },
  {
   "cell_type": "code",
   "execution_count": null,
   "metadata": {},
   "outputs": [],
   "source": [
    "def bloom_gaussiano (img, limiar_luz):\n",
    "    imagem = img.copy()\n",
    "    altura, largura, cor = img.shape[0], img.shape[1], img.shape[2]\n",
    "    \n",
    "    #imagem contém as fontes de luz\n",
    "    for k in range(cor):\n",
    "        for y in range(altura):\n",
    "            for x in range(largura):\n",
    "                if imagem[y][x][k] < limiar_luz:\n",
    "                    imagem[y][x][k] = 0                  \n",
    "    #\n",
    "    blur1 = cv2.GaussianBlur(imagem,(15,15),100)\n",
    "    \n",
    "    blur2 = cv2.resize(blur1, (0,0), fx=0.5, fy=0.5)\n",
    "    blur2 = cv2.GaussianBlur(blur2,(15,15),100)\n",
    "    \n",
    "    return blur2"
   ]
  },
  {
   "cell_type": "code",
   "execution_count": null,
   "metadata": {},
   "outputs": [],
   "source": [
    "def bloom_box (img, limiar_luz):\n",
    "    imagem = img.copy()\n",
    "    altura, largura, cor = img.shape[0], img.shape[1], img.shape[2]\n",
    "    \n",
    "    #imagem contém as fontes de luz\n",
    "    for k in range(cor):\n",
    "        for y in range(altura):\n",
    "            for x in range(largura):\n",
    "                if imagem[y][x][k] < limiar_luz:\n",
    "                    imagem[y][x][k] = 0\n",
    "    #borra a fonte de luz varias vezes\n",
    "    blur1 = imagem.copy()\n",
    "    blur2 = imagem.copy()\n",
    "    blur3 = imagem.copy()\n",
    "    blur4 = imagem.copy()\n",
    "    for i in range (0,5):\n",
    "        blur1 = cv2.blur(blur1,(15,15))\n",
    "        blur2 = cv2.blur(blur2,(35,35))\n",
    "        blur3 = cv2.blur(blur3,(55,55))\n",
    "        blur4 = cv2.blur(blur4,(75,75))\n",
    "    #\n",
    "#    for k in range(cor):\n",
    "#        for y in range(altura):\n",
    "#            for x in range(largura):\n",
    "#                pixel = blur1[y][x][k] + blur2[y][x][k] + blur3[y][x][k] + blur4[y][x][k]\n",
    "#                if(pixel > 255):\n",
    "#                    pixel = 255\n",
    "#                blur1[y][x][k] = pixel\n",
    "                \n",
    "#ou:\n",
    "#    blur1 = blur1 + blur2 + blur3 + blur4\n",
    "\n",
    "    return blur3"
   ]
  },
  {
   "cell_type": "code",
   "execution_count": null,
   "metadata": {},
   "outputs": [],
   "source": [
    "#MAIN\n",
    "try: \n",
    "    img = cv2.imread(\"Wind Waker GC.bmp\", cv2.IMREAD_COLOR)\n",
    "    #img = cv2.normalize(img, None, alpha=0, beta=1, norm_type=cv2.NORM_MINMAX, dtype=cv2.CV_32F)\n",
    "except:\n",
    "    print('Erro ao abrir imagem')\n",
    "    exit()    \n",
    "    \n",
    "start = time.time()\n",
    "gaussian = bloom_box(img, 190)\n",
    "end = time.time()\n",
    "\n",
    "print (\"gaussian bloom: \", end-start)\n",
    "\n",
    "cv2.imshow('image',gaussian)\n",
    "cv2.waitKey(30)\n",
    "cv2.destroyAllWindows()"
   ]
  },
  {
   "cell_type": "code",
   "execution_count": null,
   "metadata": {},
   "outputs": [],
   "source": []
  }
 ],
 "metadata": {
  "kernelspec": {
   "display_name": "Python 2",
   "language": "python",
   "name": "python2"
  },
  "language_info": {
   "codemirror_mode": {
    "name": "ipython",
    "version": 2
   },
   "file_extension": ".py",
   "mimetype": "text/x-python",
   "name": "python",
   "nbconvert_exporter": "python",
   "pygments_lexer": "ipython2",
   "version": "2.7.12"
  }
 },
 "nbformat": 4,
 "nbformat_minor": 2
}
