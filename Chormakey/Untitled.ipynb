{
 "cells": [
  {
   "cell_type": "code",
   "execution_count": 1,
   "metadata": {},
   "outputs": [],
   "source": [
    "import cv2\n",
    "import numpy as np"
   ]
  },
  {
   "cell_type": "code",
   "execution_count": 2,
   "metadata": {},
   "outputs": [],
   "source": [
    "def detectaVerde(img, pattern, par):\n",
    "    hsv = img.shape[2]\n",
    "    altura = img.shape[0]\n",
    "    largura = img.shape[1]\n",
    "    \n",
    "    hsv = cv2.cvtColor(img, cv2.COLOR_BGR2HSV)\n",
    "    lower_green = np.array([50, 100, 70])\n",
    "    upper_green = np.array([80, 255, 255])\n",
    "    \n",
    "    # Seleciona apenas as cores dentro do range definido acima \n",
    "    mask = cv2.inRange(hsv, lower_green, upper_green)\n",
    "    mask = cv2.bitwise_not(mask)\n",
    "    # recorta da imagem apenas os pixels brancos da mascara\n",
    "    res = cv2.bitwise_and(img, img, mask = mask)\n",
    "    \n",
    "    #seleciona pixels de verde que nao sao do fundo e \"desverdeia eles\"\n",
    "    res = desverdeia(res.copy(), par)\n",
    "    #Pega a o retorno do recorte e cola em cima do background\n",
    "    col = pasteIMG(pattern.copy(), res, mask)\n",
    "    \n",
    "    cv2.imwrite('resultados/frame' + str(par) +'.bmp',img)\n",
    "    #cv2.imwrite('resultados/mask' + str(par) +'.bmp',mask)\n",
    "    cv2.imwrite('resultados/res' + str(par) +'.bmp',res)\n",
    "    cv2.imwrite('resultados/col' + str(par) + '.bmp', col)\n",
    "\n",
    "    return "
   ]
  },
  {
   "cell_type": "code",
   "execution_count": 18,
   "metadata": {},
   "outputs": [],
   "source": [
    "def pasteIMG(background, frame, mask):\n",
    "    offset=50\n",
    "    background =  background[0:frame.shape[0]+offset*2, 20:frame.shape[1]+offset*2]\n",
    "    \n",
    "    \n",
    "    for altura in range(mask.shape[0]):\n",
    "        for largura in range(mask.shape[1]):\n",
    "            if mask[altura][largura] == 255:\n",
    "                background[altura+offset][largura+offset][:] = frame[altura][largura][:]\n",
    "    \n",
    "    #background[y_offset:y_offset+frame.shape[0], x_offset:x_offset+frame.shape[1]] = frame\n",
    "    \n",
    "    return background"
   ]
  },
  {
   "cell_type": "code",
   "execution_count": 25,
   "metadata": {},
   "outputs": [],
   "source": [
    "def desverdeia(img, par):\n",
    "    lower_green = np.array([35, 40, 30])\n",
    "    upper_green = np.array([75, 255, 255])\n",
    "    \n",
    "    #Seleciona apenas as cores dentro do range definido acima\n",
    "    hsv = cv2.cvtColor(img, cv2.COLOR_BGR2HSV)\n",
    "    mask = cv2.inRange(hsv, lower_green, upper_green)\n",
    "    mask = cv2.bitwise_not(mask)\n",
    "    \n",
    "    #escurece verdes que nao sao fundo\n",
    "    for altura in range(img.shape[0]):\n",
    "        for largura in range(img.shape[1]):\n",
    "            if mask[altura][largura]==0:\n",
    "                hsv[altura][largura][1] /= 8\n",
    "                hsv[altura][largura][2] -50\n",
    "         \n",
    "    img = cv2.cvtColor(hsv, cv2.COLOR_HSV2BGR)\n",
    "    cv2.imwrite('resultados/mask' + str(par) +'.bmp',mask)\n",
    "                \n",
    "    return img "
   ]
  },
  {
   "cell_type": "code",
   "execution_count": 26,
   "metadata": {},
   "outputs": [],
   "source": [
    "img1 = cv2.imread(\"img/1.bmp\", cv2.COLOR_BGR2HSV)\n",
    "img2 = cv2.imread(\"img/2.bmp\", cv2.COLOR_BGR2HSV)\n",
    "img3 = cv2.imread(\"img/3.bmp\", cv2.COLOR_BGR2HSV)\n",
    "img4 = cv2.imread(\"img/4.bmp\", cv2.COLOR_BGR2HSV)\n",
    "img5 = cv2.imread(\"img/5.bmp\", cv2.COLOR_BGR2HSV)\n",
    "img6 = cv2.imread(\"img/6.bmp\", cv2.COLOR_BGR2HSV)\n",
    "img7 = cv2.imread(\"img/7.bmp\", cv2.COLOR_BGR2HSV)\n",
    "img8 = cv2.imread(\"img/8.bmp\", cv2.COLOR_BGR2HSV)\n",
    "\n",
    "pattern = cv2.imread(\"pattern.bmp\")\n",
    "\n",
    "detectaVerde(img1, pattern, 1)\n",
    "detectaVerde(img2, pattern, 2)\n",
    "detectaVerde(img3, pattern, 3)\n",
    "detectaVerde(img4, pattern, 4)\n",
    "detectaVerde(img5, pattern, 5)\n",
    "detectaVerde(img6, pattern, 6)\n",
    "detectaVerde(img7, pattern, 7)\n",
    "detectaVerde(img8, pattern, 8)"
   ]
  },
  {
   "cell_type": "code",
   "execution_count": null,
   "metadata": {},
   "outputs": [],
   "source": []
  }
 ],
 "metadata": {
  "kernelspec": {
   "display_name": "Python 2",
   "language": "python",
   "name": "python2"
  },
  "language_info": {
   "codemirror_mode": {
    "name": "ipython",
    "version": 2
   },
   "file_extension": ".py",
   "mimetype": "text/x-python",
   "name": "python",
   "nbconvert_exporter": "python",
   "pygments_lexer": "ipython2",
   "version": "2.7.14"
  }
 },
 "nbformat": 4,
 "nbformat_minor": 2
}
