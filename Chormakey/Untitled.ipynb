{
 "cells": [
  {
   "cell_type": "code",
   "execution_count": 10,
   "metadata": {},
   "outputs": [],
   "source": [
    "import cv2\n",
    "import numpy as np"
   ]
  },
  {
   "cell_type": "code",
   "execution_count": 44,
   "metadata": {},
   "outputs": [],
   "source": [
    "def detectaVerde(img, par):\n",
    "    hsv = img.shape[2]\n",
    "    altura = img.shape[0]\n",
    "    largura = img.shape[1]\n",
    "    \n",
    "    print img.shape\n",
    "    \n",
    "    hsv = cv2.cvtColor(img, cv2.COLOR_BGR2HSV)\n",
    "    lower_green = np.array([50, 100, 70])\n",
    "    upper_green = np.array([70, 255, 255])\n",
    "    \n",
    "    # Threshold the HSV image to get only blue colors\n",
    "    mask = cv2.inRange(hsv, lower_green, upper_green)\n",
    "    mask = cv2.bitwise_not(mask)\n",
    "    # Bitwise-AND mask and original image\n",
    "    res = cv2.bitwise_and(img,img, mask= mask)\n",
    "    \n",
    "    cv2.imwrite('resultados/frame' + str(par) +'.bmp',img)\n",
    "    cv2.imwrite('resultados/mask' + str(par) +'.bmp',mask)\n",
    "    cv2.imwrite('resultados/res' + str(par) +'.bmp',res)\n",
    "\n",
    "    return "
   ]
  },
  {
   "cell_type": "code",
   "execution_count": 45,
   "metadata": {},
   "outputs": [
    {
     "name": "stdout",
     "output_type": "stream",
     "text": [
      "(270, 480, 3)\n",
      "(120, 213, 3)\n",
      "(270, 480, 3)\n",
      "(248, 477, 3)\n",
      "(157, 375, 3)\n",
      "(192, 288, 3)\n",
      "(170, 256, 3)\n",
      "(356, 237, 3)\n"
     ]
    }
   ],
   "source": [
    "img1 = cv2.imread(\"img/1.bmp\", cv2.COLOR_BGR2HSV)\n",
    "img2 = cv2.imread(\"img/2.bmp\", cv2.COLOR_BGR2HSV)\n",
    "img3 = cv2.imread(\"img/3.bmp\", cv2.COLOR_BGR2HSV)\n",
    "img4 = cv2.imread(\"img/4.bmp\", cv2.COLOR_BGR2HSV)\n",
    "img5 = cv2.imread(\"img/5.bmp\", cv2.COLOR_BGR2HSV)\n",
    "img6 = cv2.imread(\"img/6.bmp\", cv2.COLOR_BGR2HSV)\n",
    "img7 = cv2.imread(\"img/7.bmp\", cv2.COLOR_BGR2HSV)\n",
    "img8 = cv2.imread(\"img/8.bmp\", cv2.COLOR_BGR2HSV)\n",
    "\n",
    "detectaVerde(img1, 1)\n",
    "detectaVerde(img2, 2)\n",
    "detectaVerde(img3, 3)\n",
    "detectaVerde(img4, 4)\n",
    "detectaVerde(img5, 5)\n",
    "detectaVerde(img6, 6)\n",
    "detectaVerde(img7, 7)\n",
    "detectaVerde(img8, 8)"
   ]
  },
  {
   "cell_type": "code",
   "execution_count": null,
   "metadata": {},
   "outputs": [],
   "source": []
  },
  {
   "cell_type": "code",
   "execution_count": null,
   "metadata": {},
   "outputs": [],
   "source": []
  }
 ],
 "metadata": {
  "kernelspec": {
   "display_name": "Python 2",
   "language": "python",
   "name": "python2"
  },
  "language_info": {
   "codemirror_mode": {
    "name": "ipython",
    "version": 2
   },
   "file_extension": ".py",
   "mimetype": "text/x-python",
   "name": "python",
   "nbconvert_exporter": "python",
   "pygments_lexer": "ipython2",
   "version": "2.7.14"
  }
 },
 "nbformat": 4,
 "nbformat_minor": 2
}
