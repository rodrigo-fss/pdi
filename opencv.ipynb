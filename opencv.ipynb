{
 "cells": [
  {
   "cell_type": "code",
   "execution_count": 7,
   "metadata": {},
   "outputs": [],
   "source": [
    "import cv2\n",
    "image = cv2.imread(\"owl.jpg\",1)\n",
    "cv2.imshow(\"image\",image)\n",
    "k = cv2.waitKey(0)\n",
    "cv2.destroyAllWindows()\n",
    "#if k != ord(\"s\"):\n",
    "#    cv2.destroyAllWindows()\n",
    "#elif k == ord(\"s\"):\n",
    "#    cv2.imwrite(\"watchgray.png\",image)\n",
    "#    cv2.destroyAllWindows()"
   ]
  },
  {
   "cell_type": "code",
   "execution_count": 2,
   "metadata": {},
   "outputs": [],
   "source": [
    "def binariza (imagem, saida, threshold):\n",
    "    for i in range(len(imagem)):\n",
    "        for j in range(len(imagem[i])):\n",
    "            if imagem[i][j] >= threshold:\n",
    "                saida[i][j] = 255\n",
    "            else:\n",
    "                saida[i][j] = 0\n",
    "    return saida"
   ]
  },
  {
   "cell_type": "code",
   "execution_count": 3,
   "metadata": {},
   "outputs": [],
   "source": [
    "image = cv2.imread(\"owl.jpg\",0)\n",
    "image2 = cv2.imread(\"owl.jpg\",0)\n",
    "resultado = binariza(image, image2, 100)\n",
    "cv2.imshow(\"image\",resultado)\n",
    "k = cv2.waitKey(0)\n",
    "\n",
    "cv2.destroyAllWindows()"
   ]
  },
  {
   "cell_type": "code",
   "execution_count": null,
   "metadata": {},
   "outputs": [],
   "source": []
  },
  {
   "cell_type": "code",
   "execution_count": null,
   "metadata": {},
   "outputs": [],
   "source": []
  }
 ],
 "metadata": {
  "kernelspec": {
   "display_name": "Python 2",
   "language": "python",
   "name": "python2"
  },
  "language_info": {
   "codemirror_mode": {
    "name": "ipython",
    "version": 2
   },
   "file_extension": ".py",
   "mimetype": "text/x-python",
   "name": "python",
   "nbconvert_exporter": "python",
   "pygments_lexer": "ipython2",
   "version": "2.7.15rc1"
  }
 },
 "nbformat": 4,
 "nbformat_minor": 2
}
