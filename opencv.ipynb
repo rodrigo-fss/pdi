{
 "cells": [
  {
   "cell_type": "code",
   "execution_count": 25,
   "metadata": {},
   "outputs": [],
   "source": [
    "import cv2\n",
    "global NEGATIVO\n",
    "global THRESHOLD\n",
    "global ALTURA_MIN\n",
    "global LARGURA_MIN\n",
    "global N_PIXELS_MIN\n",
    "NEGATIVO = 0\n",
    "THRESHOLD = 200\n",
    "ALTURA_MIN = 1\n",
    "LARGURA_MIN = 1\n",
    "N_PIXELS_MIN = 1"
   ]
  },
  {
   "cell_type": "code",
   "execution_count": 33,
   "metadata": {},
   "outputs": [],
   "source": [
    "def binariza (entrada, saida, threshold):\n",
    "    for i in range(len(entrada)):\n",
    "        for j in range(len(entrada[i])):\n",
    "            if entrada[i][j] >= threshold:\n",
    "                saida[i][j] = 255\n",
    "            else:\n",
    "                saida[i][j] = 0\n",
    "    return saida"
   ]
  },
  {
   "cell_type": "code",
   "execution_count": 45,
   "metadata": {},
   "outputs": [],
   "source": [
    "def negativo(imagem):\n",
    "    for linha in range(len(imagem)):\n",
    "        for coluna in range(len(imagem[linha])):\n",
    "            imagem[linha][coluna] = 255 - int(imagem[linha][coluna])\n",
    "    return imagem"
   ]
  },
  {
   "cell_type": "code",
   "execution_count": 42,
   "metadata": {},
   "outputs": [],
   "source": [
    "class Component:\n",
    "    def __init__(self, label, n_pixels):\n",
    "        self.label = label\n",
    "        self.n_pixels = n_pixels"
   ]
  },
  {
   "cell_type": "code",
   "execution_count": null,
   "metadata": {},
   "outputs": [],
   "source": [
    "def rotula (entrada, componentes, largura_min, altura_min, n_pixels_min):\n",
    "    label = 0.1\n",
    "    for largura in range(len(entrada)):\n",
    "        for altura in range(len(entrada[largura])):\n",
    "            if entrada[largura][altura] == 255:\n",
    "                componentes = inunda(label, componentes, x, y)\n",
    "                label = label+0.1\n",
    "    return 1\n",
    "\n",
    "def inunda(label, entrada, x, y):\n",
    "    entrada[x][y]=label\n",
    "    \n",
    "    "
   ]
  },
  {
   "cell_type": "code",
   "execution_count": 27,
   "metadata": {},
   "outputs": [],
   "source": [
    "image = cv2.imread(\"pacote2/arroz.bmp\",0)\n",
    "cv2.imshow(\"image\",image)\n",
    "k = cv2.waitKey(0)\n",
    "cv2.destroyAllWindows()\n",
    "#if k != ord(\"s\"):\n",
    "#    cv2.destroyAllWindows()\n",
    "#elif k == ord(\"s\"):\n",
    "#    cv2.imwrite(\"watchgray.png\",image)\n",
    "#    cv2.destroyAllWindows()"
   ]
  },
  {
   "cell_type": "code",
   "execution_count": 47,
   "metadata": {},
   "outputs": [
    {
     "ename": "TypeError",
     "evalue": "mat is not a numpy array, neither a scalar",
     "output_type": "error",
     "traceback": [
      "\u001b[0;31m---------------------------------------------------------------------------\u001b[0m",
      "\u001b[0;31mTypeError\u001b[0m                                 Traceback (most recent call last)",
      "\u001b[0;32m<ipython-input-47-0b745a7b27bc>\u001b[0m in \u001b[0;36m<module>\u001b[0;34m()\u001b[0m\n\u001b[1;32m      3\u001b[0m \u001b[0mimage\u001b[0m \u001b[0;34m=\u001b[0m \u001b[0mresultado\u001b[0m\u001b[0;34m\u001b[0m\u001b[0m\n\u001b[1;32m      4\u001b[0m \u001b[0mresultado\u001b[0m \u001b[0;34m=\u001b[0m \u001b[0mnegativo\u001b[0m\u001b[0;34m(\u001b[0m\u001b[0mimage\u001b[0m\u001b[0;34m,\u001b[0m \u001b[0mresultado\u001b[0m\u001b[0;34m)\u001b[0m\u001b[0;34m\u001b[0m\u001b[0m\n\u001b[0;32m----> 5\u001b[0;31m \u001b[0mcv2\u001b[0m\u001b[0;34m.\u001b[0m\u001b[0mimshow\u001b[0m\u001b[0;34m(\u001b[0m\u001b[0;34m\"image\"\u001b[0m\u001b[0;34m,\u001b[0m\u001b[0mresultado\u001b[0m\u001b[0;34m)\u001b[0m\u001b[0;34m\u001b[0m\u001b[0m\n\u001b[0m\u001b[1;32m      6\u001b[0m \u001b[0mk\u001b[0m \u001b[0;34m=\u001b[0m \u001b[0mcv2\u001b[0m\u001b[0;34m.\u001b[0m\u001b[0mwaitKey\u001b[0m\u001b[0;34m(\u001b[0m\u001b[0;36m0\u001b[0m\u001b[0;34m)\u001b[0m\u001b[0;34m\u001b[0m\u001b[0m\n\u001b[1;32m      7\u001b[0m \u001b[0mcv2\u001b[0m\u001b[0;34m.\u001b[0m\u001b[0mdestroyAllWindows\u001b[0m\u001b[0;34m(\u001b[0m\u001b[0;34m)\u001b[0m\u001b[0;34m\u001b[0m\u001b[0m\n",
      "\u001b[0;31mTypeError\u001b[0m: mat is not a numpy array, neither a scalar"
     ]
    }
   ],
   "source": [
    "image2 = image\n",
    "resultado = binariza(image, image2, THRESHOLD)\n",
    "image = resultado\n",
    "resultado = negativo(image, resultado)\n",
    "cv2.imshow(\"image\",resultado)\n",
    "k = cv2.waitKey(0)\n",
    "cv2.destroyAllWindows()"
   ]
  },
  {
   "cell_type": "code",
   "execution_count": null,
   "metadata": {},
   "outputs": [],
   "source": []
  }
 ],
 "metadata": {
  "kernelspec": {
   "display_name": "Python 2",
   "language": "python",
   "name": "python2"
  },
  "language_info": {
   "codemirror_mode": {
    "name": "ipython",
    "version": 2
   },
   "file_extension": ".py",
   "mimetype": "text/x-python",
   "name": "python",
   "nbconvert_exporter": "python",
   "pygments_lexer": "ipython2",
   "version": "2.7.15rc1"
  }
 },
 "nbformat": 4,
 "nbformat_minor": 2
}
