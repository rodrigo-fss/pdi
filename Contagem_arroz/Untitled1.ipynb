{
 "cells": [
  {
   "cell_type": "code",
   "execution_count": 1,
   "metadata": {},
   "outputs": [],
   "source": [
    "import cv2\n",
    "import time\n",
    "import numpy as np\n",
    "\n",
    "global kernel\n",
    "kernel = np.ones((5,5),np.uint8)\n",
    "\n",
    "global kernel2\n",
    "kernel2 = np.ones((2,2),np.uint8)\n",
    "\n",
    "global ALTURA_MIN\n",
    "global LARGURA_MIN\n",
    "global N_PIXELS_MIN\n",
    "\n",
    "ALTURA_MIN = 1\n",
    "LARGURA_MIN = 1\n",
    "N_PIXELS_MIN = 20"
   ]
  },
  {
   "cell_type": "code",
   "execution_count": 5,
   "metadata": {},
   "outputs": [],
   "source": [
    "class Component:\n",
    "    def __init__(self, label, n_pixels):\n",
    "        self.label = label\n",
    "        self.n_pixels = n_pixels\n",
    "\n",
    "def rotula (entrada, componentes, largura_min, altura_min, n_pixels_min):\n",
    "    label = 0.1\n",
    "    #Inicia Lista de componentes\n",
    "    componentes = []\n",
    "    \n",
    "    for altura in range(entrada.shape[0]):\n",
    "        for largura in range(entrada.shape[1]):\n",
    "            #Se o pixel for branco\n",
    "            if entrada[altura][largura] == 255:\n",
    "                #Comece a inundação\n",
    "                componente = inunda(label, entrada, altura, largura, 1)                \n",
    "                #Se o objeto inundado tiver mais pixels do que o numero minimo definido\n",
    "                if componente != 0:\n",
    "                    #Adicione ao lista de componentes e incremente a label\n",
    "                    componentes.append(componente)\n",
    "                    label = label+0.1\n",
    "    #printando todos os componentes encontrados\n",
    "    print 'Numero de Componentes: ' + len(componentes)\n",
    "    return len(componentes)\n",
    "\n",
    "\n",
    "def inunda(label, entrada, x, y, ind):\n",
    "    n_pixels_cont = 1\n",
    "    entrada[x][y] = label\n",
    "    \n",
    "    #Visite seu quatro vizinhos e verifique se fazem parte do objeto\n",
    "    if entrada[x-1][y] == 255:\n",
    "        #Se fizerem, prossiga com a inundação recursiva nessa direção\n",
    "        n_pixels_cont = inunda(label, entrada, x-1, y, 0) + 1\n",
    "    if entrada[x][y-1] == 255:\n",
    "        n_pixels_cont  = inunda(label, entrada, x, y-1, 0) + 1\n",
    "    if entrada[x+1][y] == 255:\n",
    "        n_pixels_cont = inunda(label, entrada, x+1, y, 0) + 1\n",
    "    if entrada[x][y+1] == 255:\n",
    "        n_pixels_cont  = inunda(label, entrada, x, y+1, 0) + 1\n",
    "    \n",
    "    #A variavel ind verifica se estamos na primeira chamada do objeto, assim, se a inundação foi finalizada\n",
    "    if ind == 1:\n",
    "        #Se for, verifique se o numero de pixels do objeto é maior que o minimo definido\n",
    "        if n_pixels_cont >= N_PIXELS_MIN:\n",
    "            #Se for, crie um componente e retorne\n",
    "            componente = Component(label, n_pixels_cont)\n",
    "            return componente\n",
    "        else:\n",
    "            return 0\n",
    "    #Se não for a primeira chamada, retorne a contagem de pixels do objeto para ser incrementada com as outras chamadas\n",
    "    else:\n",
    "        return n_pixels_cont\n",
    "    "
   ]
  },
  {
   "cell_type": "code",
   "execution_count": 6,
   "metadata": {},
   "outputs": [],
   "source": [
    "def trataImagem(img):\n",
    "    #THRESHOLD ADAPTATIVO\n",
    "    imgthresh = cv2.adaptiveThreshold(img, 255, cv2.ADAPTIVE_THRESH_MEAN_C, cv2.THRESH_BINARY, 101, -30)\n",
    "    \n",
    "    for img in range(1):\n",
    "        #OPENING\n",
    "        imgthresh = cv2.morphologyEx(imgthresh, cv2.MORPH_OPEN, kernel)\n",
    "    \n",
    "    #ERODE   \n",
    "    imgthresh = cv2.erode(imgthresh,kernel2,iterations = 2)\n",
    "    n_componentes = rotula(imgthresh, 0, ALTURA_MIN, LARGURA_MIN, N_PIXELS_MIN)\n",
    "    \n",
    "    return imgthresh"
   ]
  },
  {
   "cell_type": "code",
   "execution_count": 7,
   "metadata": {},
   "outputs": [
    {
     "ename": "TypeError",
     "evalue": "cannot concatenate 'str' and 'int' objects",
     "output_type": "error",
     "traceback": [
      "\u001b[1;31m---------------------------------------------------------------------------\u001b[0m",
      "\u001b[1;31mTypeError\u001b[0m                                 Traceback (most recent call last)",
      "\u001b[1;32m<ipython-input-7-bd600aa67d69>\u001b[0m in \u001b[0;36m<module>\u001b[1;34m()\u001b[0m\n\u001b[0;32m      5\u001b[0m \u001b[0mimg5\u001b[0m \u001b[1;33m=\u001b[0m \u001b[0mcv2\u001b[0m\u001b[1;33m.\u001b[0m\u001b[0mimread\u001b[0m\u001b[1;33m(\u001b[0m\u001b[1;34m\"205.bmp\"\u001b[0m\u001b[1;33m,\u001b[0m \u001b[0mcv2\u001b[0m\u001b[1;33m.\u001b[0m\u001b[0mIMREAD_GRAYSCALE\u001b[0m \u001b[1;33m)\u001b[0m\u001b[1;33m\u001b[0m\u001b[0m\n\u001b[0;32m      6\u001b[0m \u001b[1;33m\u001b[0m\u001b[0m\n\u001b[1;32m----> 7\u001b[1;33m \u001b[0mimg1thresh\u001b[0m \u001b[1;33m=\u001b[0m \u001b[0mtrataImagem\u001b[0m\u001b[1;33m(\u001b[0m\u001b[0mimg1\u001b[0m\u001b[1;33m)\u001b[0m\u001b[1;33m\u001b[0m\u001b[0m\n\u001b[0m\u001b[0;32m      8\u001b[0m \u001b[0mimg2thresh\u001b[0m \u001b[1;33m=\u001b[0m \u001b[0mtrataImagem\u001b[0m\u001b[1;33m(\u001b[0m\u001b[0mimg2\u001b[0m\u001b[1;33m)\u001b[0m\u001b[1;33m\u001b[0m\u001b[0m\n\u001b[0;32m      9\u001b[0m \u001b[0mimg3thresh\u001b[0m \u001b[1;33m=\u001b[0m \u001b[0mtrataImagem\u001b[0m\u001b[1;33m(\u001b[0m\u001b[0mimg3\u001b[0m\u001b[1;33m)\u001b[0m\u001b[1;33m\u001b[0m\u001b[0m\n",
      "\u001b[1;32m<ipython-input-6-2ccef6702124>\u001b[0m in \u001b[0;36mtrataImagem\u001b[1;34m(img)\u001b[0m\n\u001b[0;32m      9\u001b[0m     \u001b[1;31m#ERODE\u001b[0m\u001b[1;33m\u001b[0m\u001b[1;33m\u001b[0m\u001b[0m\n\u001b[0;32m     10\u001b[0m     \u001b[0mimgthresh\u001b[0m \u001b[1;33m=\u001b[0m \u001b[0mcv2\u001b[0m\u001b[1;33m.\u001b[0m\u001b[0merode\u001b[0m\u001b[1;33m(\u001b[0m\u001b[0mimgthresh\u001b[0m\u001b[1;33m,\u001b[0m\u001b[0mkernel2\u001b[0m\u001b[1;33m,\u001b[0m\u001b[0miterations\u001b[0m \u001b[1;33m=\u001b[0m \u001b[1;36m2\u001b[0m\u001b[1;33m)\u001b[0m\u001b[1;33m\u001b[0m\u001b[0m\n\u001b[1;32m---> 11\u001b[1;33m     \u001b[0mn_componentes\u001b[0m \u001b[1;33m=\u001b[0m \u001b[0mrotula\u001b[0m\u001b[1;33m(\u001b[0m\u001b[0mimgthresh\u001b[0m\u001b[1;33m,\u001b[0m \u001b[1;36m0\u001b[0m\u001b[1;33m,\u001b[0m \u001b[0mALTURA_MIN\u001b[0m\u001b[1;33m,\u001b[0m \u001b[0mLARGURA_MIN\u001b[0m\u001b[1;33m,\u001b[0m \u001b[0mN_PIXELS_MIN\u001b[0m\u001b[1;33m)\u001b[0m\u001b[1;33m\u001b[0m\u001b[0m\n\u001b[0m\u001b[0;32m     12\u001b[0m \u001b[1;33m\u001b[0m\u001b[0m\n\u001b[0;32m     13\u001b[0m     \u001b[1;32mreturn\u001b[0m \u001b[0mimgthresh\u001b[0m\u001b[1;33m\u001b[0m\u001b[0m\n",
      "\u001b[1;32m<ipython-input-5-cbc794313d37>\u001b[0m in \u001b[0;36mrotula\u001b[1;34m(entrada, componentes, largura_min, altura_min, n_pixels_min)\u001b[0m\n\u001b[0;32m     21\u001b[0m                     \u001b[0mlabel\u001b[0m \u001b[1;33m=\u001b[0m \u001b[0mlabel\u001b[0m\u001b[1;33m+\u001b[0m\u001b[1;36m0.1\u001b[0m\u001b[1;33m\u001b[0m\u001b[0m\n\u001b[0;32m     22\u001b[0m     \u001b[1;31m#printando todos os componentes encontrados\u001b[0m\u001b[1;33m\u001b[0m\u001b[1;33m\u001b[0m\u001b[0m\n\u001b[1;32m---> 23\u001b[1;33m     \u001b[1;32mprint\u001b[0m \u001b[1;34m'Numero de Componentes: '\u001b[0m \u001b[1;33m+\u001b[0m \u001b[0mlen\u001b[0m\u001b[1;33m(\u001b[0m\u001b[0mcomponentes\u001b[0m\u001b[1;33m)\u001b[0m\u001b[1;33m\u001b[0m\u001b[0m\n\u001b[0m\u001b[0;32m     24\u001b[0m     \u001b[1;32mreturn\u001b[0m \u001b[0mlen\u001b[0m\u001b[1;33m(\u001b[0m\u001b[0mcomponentes\u001b[0m\u001b[1;33m)\u001b[0m\u001b[1;33m\u001b[0m\u001b[0m\n\u001b[0;32m     25\u001b[0m \u001b[1;33m\u001b[0m\u001b[0m\n",
      "\u001b[1;31mTypeError\u001b[0m: cannot concatenate 'str' and 'int' objects"
     ]
    }
   ],
   "source": [
    "img1 = cv2.imread(\"60.bmp\", cv2.IMREAD_GRAYSCALE )\n",
    "img2 = cv2.imread(\"82.bmp\", cv2.IMREAD_GRAYSCALE )\n",
    "img3 = cv2.imread(\"114.bmp\", cv2.IMREAD_GRAYSCALE )\n",
    "img4 = cv2.imread(\"150.bmp\", cv2.IMREAD_GRAYSCALE )\n",
    "img5 = cv2.imread(\"205.bmp\", cv2.IMREAD_GRAYSCALE )\n",
    "\n",
    "img1thresh = trataImagem(img1)\n",
    "img2thresh = trataImagem(img2)\n",
    "img3thresh = trataImagem(img3)\n",
    "img4thresh = trataImagem(img4)\n",
    "img5thresh = trataImagem(img5)\n",
    "    \n",
    "cv2.imwrite('im1.bmp', img1thresh)\n",
    "cv2.imwrite('im2.bmp', img2thresh)\n",
    "cv2.imwrite('im3.bmp', img3thresh)\n",
    "cv2.imwrite('im4.bmp', img4thresh)\n",
    "cv2.imwrite('im5.bmp', img5thresh)\n"
   ]
  },
  {
   "cell_type": "code",
   "execution_count": null,
   "metadata": {},
   "outputs": [],
   "source": []
  }
 ],
 "metadata": {
  "kernelspec": {
   "display_name": "Python 2",
   "language": "python",
   "name": "python2"
  },
  "language_info": {
   "codemirror_mode": {
    "name": "ipython",
    "version": 2
   },
   "file_extension": ".py",
   "mimetype": "text/x-python",
   "name": "python",
   "nbconvert_exporter": "python",
   "pygments_lexer": "ipython2",
   "version": "2.7.14"
  }
 },
 "nbformat": 4,
 "nbformat_minor": 2
}
