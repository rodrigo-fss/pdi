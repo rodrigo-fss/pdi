{
 "cells": [
  {
   "cell_type": "code",
   "execution_count": 2,
   "metadata": {},
   "outputs": [],
   "source": [
    "import cv2\n",
    "import time\n",
    "import numpy as np\n",
    "\n",
    "kernel = np.ones((5,5),np.uint8)\n",
    "kernel = np.ones((3,1),np.uint8)"
   ]
  },
  {
   "cell_type": "code",
   "execution_count": 6,
   "metadata": {},
   "outputs": [
    {
     "data": {
      "text/plain": [
       "True"
      ]
     },
     "execution_count": 6,
     "metadata": {},
     "output_type": "execute_result"
    }
   ],
   "source": [
    "img1 = cv2.imread(\"60.bmp\", cv2.IMREAD_GRAYSCALE )\n",
    "img2 = cv2.imread(\"82.bmp\", cv2.IMREAD_GRAYSCALE )\n",
    "img3 = cv2.imread(\"114.bmp\", cv2.IMREAD_GRAYSCALE )\n",
    "img4 = cv2.imread(\"150.bmp\", cv2.IMREAD_GRAYSCALE )\n",
    "img5 = cv2.imread(\"205.bmp\", cv2.IMREAD_GRAYSCALE )\n",
    "\n",
    "\n",
    "img1, img1thresh = cv2.threshold(img1, 185, 255, cv2.THRESH_BINARY)\n",
    "for img in range(5):\n",
    "    img1thresh = cv2.morphologyEx(img1thresh, cv2.MORPH_OPEN, kernel)\n",
    "    img1thresh = cv2.erode(img1thresh,kernel,iterations = 1)\n",
    "    \n",
    "img2, img2thresh = cv2.threshold(img2, 185, 255, cv2.THRESH_BINARY)\n",
    " for img in range(5):\n",
    "    img2thresh = cv2.morphologyEx(img2thresh, cv2.MORPH_OPEN, kernel)\n",
    "    img2thresh = cv2.erode(img2thresh,kernel,iterations = 1)\n",
    "    \n",
    "img3, img3thresh = cv2.threshold(img3, 185, 255, cv2.THRESH_BINARY)\n",
    "for img in range(5):\n",
    "    img3thresh = cv2.morphologyEx(img3thresh, cv2.MORPH_OPEN, kernel)\n",
    "    img3thresh = cv2.erode(img3thresh,kernel,iterations = 1)\n",
    "    \n",
    "img4, img4thresh = cv2.threshold(img4, 185, 255, cv2.THRESH_BINARY)\n",
    "for img in range(5):\n",
    "    img4thresh = cv2.morphologyEx(img4thresh, cv2.MORPH_OPEN, kernel)\n",
    "    img4thresh = cv2.erode(img4thresh,kernel,iterations = 1)\n",
    "    \n",
    "img5, img5thresh = cv2.threshold(img5, 185, 255, cv2.THRESH_BINARY)\n",
    "for img in range(5):\n",
    "    img5thresh = cv2.morphologyEx(img5thresh, cv2.MORPH_OPEN, kernel)\n",
    "    img5thresh = cv2.erode(img5thresh,kernel,iterations = 1)\n",
    "\n",
    "    \n",
    "cv2.imwrite('im1.bmp', img1thresh)\n",
    "cv2.imwrite('im2.bmp', img2thresh)\n",
    "cv2.imwrite('im3.bmp', img3thresh)\n",
    "cv2.imwrite('im4.bmp', img4thresh)\n",
    "cv2.imwrite('im5.bmp', img5thresh)\n"
   ]
  },
  {
   "cell_type": "code",
   "execution_count": null,
   "metadata": {},
   "outputs": [],
   "source": []
  }
 ],
 "metadata": {
  "kernelspec": {
   "display_name": "Python 2",
   "language": "python",
   "name": "python2"
  },
  "language_info": {
   "codemirror_mode": {
    "name": "ipython",
    "version": 2
   },
   "file_extension": ".py",
   "mimetype": "text/x-python",
   "name": "python",
   "nbconvert_exporter": "python",
   "pygments_lexer": "ipython2",
   "version": "2.7.14"
  }
 },
 "nbformat": 4,
 "nbformat_minor": 2
}
