{
 "cells": [
  {
   "cell_type": "code",
   "execution_count": 10,
   "metadata": {},
   "outputs": [],
   "source": [
    "import cv2\n",
    "import time\n",
    "import math\n",
    "import numpy as np\n",
    "\n",
    "global JANELA\n",
    "JANELA = 5"
   ]
  },
  {
   "cell_type": "code",
   "execution_count": 11,
   "metadata": {},
   "outputs": [],
   "source": [
    "def filtroIngenuo(img):\n",
    "    altura, largura, cor = img.shape[0], img.shape[1], img.shape[2]\n",
    "    janela = JANELA/2\n",
    "    print janela\n",
    "    \n",
    "    for k in range(cor):\n",
    "        for y in range(janela, altura-janela):\n",
    "            for x in range(janela, largura-janela):\n",
    "                \n",
    "                soma = 0\n",
    "                for alturaJanela in range(y-janela, y+janela):\n",
    "                    for larguraJanela in range(x-janela, x+janela):\n",
    "                        soma += img[alturaJanela][larguraJanela][k]\n",
    "                        \n",
    "                img[y][x][k] = soma/np.power(janela*2, 2)\n",
    "    return img"
   ]
  },
  {
   "cell_type": "code",
   "execution_count": 12,
   "metadata": {
    "scrolled": true
   },
   "outputs": [
    {
     "name": "stdout",
     "output_type": "stream",
     "text": [
      "2\n",
      "Filtro Ingenuo: 9.37599992752\n"
     ]
    }
   ],
   "source": [
    "##MAIN\n",
    "try: \n",
    "    img = cv2.imread(\"lena.jpg\", cv2.IMREAD_COLOR)\n",
    "    img = cv2.normalize(img, None, alpha=0, beta=1, norm_type=cv2.NORM_MINMAX, dtype=cv2.CV_32F)\n",
    "except:\n",
    "    print 'Erro ao abrir imagem'\n",
    "    exit()\n",
    "    \n",
    "start = time.time()   \n",
    "img = filtroIngenuo(img)\n",
    "end = time.time()\n",
    "\n",
    "print \"Filtro Ingenuo: \"+ str(end-start)\n",
    "\n",
    "cv2.imshow('image',img)\n",
    "cv2.waitKey(0)\n",
    "cv2.destroyAllWindows()"
   ]
  }
 ],
 "metadata": {
  "kernelspec": {
   "display_name": "Python 2",
   "language": "python",
   "name": "python2"
  },
  "language_info": {
   "codemirror_mode": {
    "name": "ipython",
    "version": 2
   },
   "file_extension": ".py",
   "mimetype": "text/x-python",
   "name": "python",
   "nbconvert_exporter": "python",
   "pygments_lexer": "ipython2",
   "version": "2.7.14"
  }
 },
 "nbformat": 4,
 "nbformat_minor": 2
}
