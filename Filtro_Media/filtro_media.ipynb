{
 "cells": [
  {
   "cell_type": "code",
   "execution_count": 1,
   "metadata": {},
   "outputs": [],
   "source": [
    "import cv2\n",
    "import time\n",
    "import math\n",
    "import numpy as np\n",
    "\n",
    "global JANELA\n",
    "JANELA = 5"
   ]
  },
  {
   "cell_type": "code",
   "execution_count": 2,
   "metadata": {},
   "outputs": [],
   "source": [
    "def filtroIngenuo(img):\n",
    "    imagem = img.copy()\n",
    "    altura, largura, cor = img.shape[0], img.shape[1], img.shape[2]\n",
    "    janela = JANELA/2\n",
    "    \n",
    "    for k in range(cor):\n",
    "        for y in range(janela, altura-janela):\n",
    "            for x in range(janela, largura-janela):\n",
    "                \n",
    "                soma = 0\n",
    "                for alturaJanela in range(y-janela, y+janela):\n",
    "                    for larguraJanela in range(x-janela, x+janela):\n",
    "                        soma += imagem[alturaJanela][larguraJanela][k]\n",
    "                        \n",
    "                img[y][x][k] = soma/np.power(janela*2, 2)\n",
    "    return img"
   ]
  },
  {
   "cell_type": "code",
   "execution_count": 3,
   "metadata": {},
   "outputs": [],
   "source": [
    "def filtroSeparavel(img):\n",
    "    imagem = img.copy()\n",
    "    altura, largura, cor = img.shape[0], img.shape[1], img.shape[2]  \n",
    "    janela = JANELA/2\n",
    "        \n",
    "    for k in range(cor):\n",
    "        for y in range(janela, altura - janela):\n",
    "            for x in range(janela, largura - janela):\n",
    "                \n",
    "                soma = 0\n",
    "                for larguraJanela in range(x-janela, x+janela):\n",
    "                    soma+=imagem[y][larguraJanela][k]\n",
    "                img[y][x][k] = soma/(janela*2)\n",
    "                \n",
    "    for k in range(cor):\n",
    "        for y in range(janela, altura - janela):\n",
    "            for x in range(janela, largura - janela):\n",
    "            \n",
    "                soma = 0\n",
    "                for alturaJanela in range(y-janela, y+janela):\n",
    "                    soma += img[alturaJanela][x][k]\n",
    "                imagem[y][x][k] = soma/(janela*2)\n",
    "    \n",
    "    return imagem"
   ]
  },
  {
   "cell_type": "code",
   "execution_count": 4,
   "metadata": {},
   "outputs": [],
   "source": [
    "def filtroSeparavelAproveitando(img):\n",
    "    imagem = img.copy()\n",
    "    altura, largura, cor = img.shape[0], img.shape[1], img.shape[2]  \n",
    "    janela = JANELA/2\n",
    "        \n",
    "    for k in range(cor):\n",
    "        for y in range(janela, altura - janela):\n",
    "            ind = 0\n",
    "            for x in range(janela, largura - janela):\n",
    "                if ind == 0:\n",
    "                    soma = 0\n",
    "                    for larguraJanela in range(x-janela, x+janela):\n",
    "                        soma+=imagem[y][larguraJanela][k]\n",
    "                    ind = 1\n",
    "                    \n",
    "                else:\n",
    "                    soma -= imagem[y][x-janela-1][k]\n",
    "                    soma += imagem[y][x+janela-1][k]\n",
    "                \n",
    "                img[y][x][k] = soma/(janela*2)\n",
    "                \n",
    "    for k in range(cor):\n",
    "        for x in range(janela, largura - janela):\n",
    "\n",
    "            ind = 0\n",
    "            for y in range(janela, altura - janela):\n",
    "                if ind == 0:\n",
    "                    soma = 0\n",
    "                    for alturaJanela in range(y-janela, y+janela):\n",
    "                        soma += img[alturaJanela][x][k] \n",
    "                    ind = 1\n",
    "                else:\n",
    "                    soma -= img[y-janela-1][x][k]\n",
    "                    soma += img[y+janela-1][x][k]\n",
    "                \n",
    "                imagem[y][x][k] = soma/(janela*2)\n",
    "                \n",
    "                \n",
    "    return imagem\n",
    "   "
   ]
  },
  {
   "cell_type": "code",
   "execution_count": 5,
   "metadata": {
    "scrolled": true
   },
   "outputs": [
    {
     "name": "stdout",
     "output_type": "stream",
     "text": [
      "Filtro Ingenuo: 9.34899997711\n",
      "Filtro Separavel: 6.49699997902\n",
      "Filtro Separavel Aproveitando as Somas Anteriores: 2.2460000515\n"
     ]
    }
   ],
   "source": [
    "##MAIN\n",
    "try: \n",
    "    img = cv2.imread(\"lena.jpg\", cv2.IMREAD_COLOR)\n",
    "    img = cv2.normalize(img, None, alpha=0, beta=1, norm_type=cv2.NORM_MINMAX, dtype=cv2.CV_32F)\n",
    "except:\n",
    "    print 'Erro ao abrir imagem'\n",
    "    exit()\n",
    "    \n",
    "start = time.time()   \n",
    "ingenuo = filtroIngenuo(img)\n",
    "end = time.time()\n",
    "\n",
    "print \"Filtro Ingenuo: \"+ str(end-start)\n",
    "\n",
    "cv2.imshow('image',ingenuo)\n",
    "cv2.waitKey(0)\n",
    "cv2.destroyAllWindows()\n",
    "\n",
    "######################\n",
    "\n",
    "start = time.time()   \n",
    "separavel = filtroSeparavel(img)\n",
    "end = time.time()\n",
    "\n",
    "print \"Filtro Separavel: \"+ str(end-start)\n",
    "\n",
    "cv2.imshow('image',separavel)\n",
    "cv2.waitKey(0)\n",
    "cv2.destroyAllWindows()\n",
    "\n",
    "######################\n",
    "\n",
    "start = time.time()   \n",
    "sepAproveitando = filtroSeparavelAproveitando(img)\n",
    "end = time.time()\n",
    "\n",
    "print \"Filtro Separavel Aproveitando as Somas Anteriores: \"+ str(end-start)\n",
    "\n",
    "cv2.imshow('image',sepAproveitando)\n",
    "cv2.waitKey(0)\n",
    "cv2.destroyAllWindows()"
   ]
  }
 ],
 "metadata": {
  "kernelspec": {
   "display_name": "Python 2",
   "language": "python",
   "name": "python2"
  },
  "language_info": {
   "codemirror_mode": {
    "name": "ipython",
    "version": 2
   },
   "file_extension": ".py",
   "mimetype": "text/x-python",
   "name": "python",
   "nbconvert_exporter": "python",
   "pygments_lexer": "ipython2",
   "version": "2.7.14"
  }
 },
 "nbformat": 4,
 "nbformat_minor": 2
}
